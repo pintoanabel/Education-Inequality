{
  "nbformat": 4,
  "nbformat_minor": 0,
  "metadata": {
    "colab": {
      "provenance": []
    },
    "kernelspec": {
      "name": "python3",
      "display_name": "Python 3"
    },
    "language_info": {
      "name": "python"
    }
  },
  "cells": [
    {
      "cell_type": "markdown",
      "source": [
        "## Introduction"
      ],
      "metadata": {
        "id": "cOSJyABoshOK"
      }
    },
    {
      "cell_type": "markdown",
      "source": [
        "The purpose of this notebook is to prepare and clean data on standardized test scores as well as school information and socioeconomic characteristics. This cleaned dataset will then be ready to be exported for analysis."
      ],
      "metadata": {
        "id": "26hIPGtBsi7g"
      }
    },
    {
      "cell_type": "markdown",
      "source": [
        "## Import libraries"
      ],
      "metadata": {
        "id": "dwvtDMCYlPus"
      }
    },
    {
      "cell_type": "code",
      "execution_count": 1,
      "metadata": {
        "id": "DQZAzYri_ru5"
      },
      "outputs": [],
      "source": [
        "import pandas as pd\n",
        "import numpy as np\n",
        "import matplotlib.pyplot as plt\n",
        "import seaborn as sns\n",
        "sns.set_theme(style='whitegrid')\n",
        "import missingno as msno\n",
        "\n",
        "# Train-test splits\n",
        "from sklearn.model_selection import train_test_split, cross_val_score, GridSearchCV, KFold, RandomizedSearchCV\n",
        "\n",
        "# Model preprocessing\n",
        "from sklearn.preprocessing import StandardScaler\n",
        "from sklearn import preprocessing\n",
        "from sklearn.preprocessing import PolynomialFeatures\n",
        "\n",
        "# Imputation\n",
        "from sklearn.experimental import enable_iterative_imputer\n",
        "from sklearn.impute import SimpleImputer, IterativeImputer, KNNImputer\n",
        "\n",
        "# Models\n",
        "from sklearn import linear_model\n",
        "\n",
        "# Model metrics and analysis\n",
        "from sklearn.metrics import r2_score, mean_squared_error, mean_absolute_error"
      ]
    },
    {
      "cell_type": "markdown",
      "source": [
        "## The data"
      ],
      "metadata": {
        "id": "PQfz_To0dhYX"
      }
    },
    {
      "cell_type": "markdown",
      "source": [
        "Two datasets are cleaned and merged in this notebook. \n",
        "\n",
        "The 2016 dataset containing SAT/ACT scores and socioeconomic characteristics for school districts comes from EdGap.org: https://www.edgap.org/#4/37.89/-97.00\n",
        "\n",
        "The second dataset, providing basic information about each school, was pulled from the National Center for Education Statistics: https://nces.ed.gov/ccd/pubschuniv.asp"
      ],
      "metadata": {
        "id": "GADd4_5jCxsZ"
      }
    },
    {
      "cell_type": "markdown",
      "source": [
        "### EdGap data (Standardized test scores and socioeconomic characteristics)"
      ],
      "metadata": {
        "id": "HUbdlXjMchi-"
      }
    },
    {
      "cell_type": "markdown",
      "source": [
        "For this dataset, the socioeconomic data was gathered from the Census Bureau's American Community Survey. EdGap also reports that the standardized test score data comes from states' departments of education or other public education data releases. While the reliability of the public data releases is undetermined, data coming from the census and the departments of education are considered trustworthy.\n",
        "\n",
        "EdGap has not indicated any processing of this data. The data was assembled by EdGap however, but since the data is public, if there are any errors we ourselves also can attain access to the original data."
      ],
      "metadata": {
        "id": "JhRr1Z9Bcis6"
      }
    },
    {
      "cell_type": "markdown",
      "source": [
        "### NCES data (Basic school info)"
      ],
      "metadata": {
        "id": "6ahKtePYcbEZ"
      }
    },
    {
      "cell_type": "markdown",
      "source": [
        "The school information data is from the [National Center for Education Statistics](https://nces.ed.gov/ccd/pubschuniv.asp). This data set consists of basic identifying information about schools and can be assumed to be of reasonably high quality.\n"
      ],
      "metadata": {
        "id": "y7K1km9Tcdy3"
      }
    },
    {
      "cell_type": "markdown",
      "source": [
        "## Load the data"
      ],
      "metadata": {
        "id": "5qccuG8vy7Ja"
      }
    },
    {
      "cell_type": "markdown",
      "source": [
        "Load the EdGap\n",
        " data set"
      ],
      "metadata": {
        "id": "eJEcz0yYiY0r"
      }
    },
    {
      "cell_type": "code",
      "source": [
        "edgap = pd.read_excel('https://raw.githubusercontent.com/brian-fischer/DATA-3320/main/education/EdGap_data.xlsx')"
      ],
      "metadata": {
        "id": "iClV9MZBiY0r",
        "colab": {
          "base_uri": "https://localhost:8080/"
        },
        "outputId": "3d9891ce-e4f6-4216-cf51-12db4bde44eb"
      },
      "execution_count": 2,
      "outputs": [
        {
          "output_type": "stream",
          "name": "stderr",
          "text": [
            "/usr/local/lib/python3.9/dist-packages/openpyxl/worksheet/_reader.py:312: UserWarning: Unknown extension is not supported and will be removed\n",
            "  warn(msg)\n"
          ]
        }
      ]
    },
    {
      "cell_type": "markdown",
      "source": [
        "Load the school information data"
      ],
      "metadata": {
        "id": "yQ_5N98addPO"
      }
    },
    {
      "cell_type": "code",
      "source": [
        "!wget https://www.dropbox.com/s/lkl5nvcdmwyoban/ccd_sch_029_1617_w_1a_11212017.csv?dl=0"
      ],
      "metadata": {
        "id": "4koKUuw4doCI",
        "colab": {
          "base_uri": "https://localhost:8080/"
        },
        "outputId": "939c2bce-2efb-48ef-e86e-27a8812b08a0"
      },
      "execution_count": 3,
      "outputs": [
        {
          "output_type": "stream",
          "name": "stdout",
          "text": [
            "--2023-04-25 04:03:40--  https://www.dropbox.com/s/lkl5nvcdmwyoban/ccd_sch_029_1617_w_1a_11212017.csv?dl=0\n",
            "Resolving www.dropbox.com (www.dropbox.com)... 162.125.3.18, 2620:100:6018:18::a27d:312\n",
            "Connecting to www.dropbox.com (www.dropbox.com)|162.125.3.18|:443... connected.\n",
            "HTTP request sent, awaiting response... 302 Found\n",
            "Location: /s/raw/lkl5nvcdmwyoban/ccd_sch_029_1617_w_1a_11212017.csv [following]\n",
            "--2023-04-25 04:03:41--  https://www.dropbox.com/s/raw/lkl5nvcdmwyoban/ccd_sch_029_1617_w_1a_11212017.csv\n",
            "Reusing existing connection to www.dropbox.com:443.\n",
            "HTTP request sent, awaiting response... 302 Found\n",
            "Location: https://uc57dd0282269c88c66c5210b926.dl.dropboxusercontent.com/cd/0/inline/B61LAna6aQInXj8Mi7m6iQ6cdidAVvQH7INImx0ZQyJha5ODcCQH3Z4P_BqG4tfaeeRAySXwnQL1QKSCkJzirmv6iK-CJJyoq74MX12MoS2qfG_z8BTetJAYNHxQXJ7WMvw0DAUrtHWRO_AUQYWAL8P9rDLohanK2OERnC4GFVHOxQ/file# [following]\n",
            "--2023-04-25 04:03:41--  https://uc57dd0282269c88c66c5210b926.dl.dropboxusercontent.com/cd/0/inline/B61LAna6aQInXj8Mi7m6iQ6cdidAVvQH7INImx0ZQyJha5ODcCQH3Z4P_BqG4tfaeeRAySXwnQL1QKSCkJzirmv6iK-CJJyoq74MX12MoS2qfG_z8BTetJAYNHxQXJ7WMvw0DAUrtHWRO_AUQYWAL8P9rDLohanK2OERnC4GFVHOxQ/file\n",
            "Resolving uc57dd0282269c88c66c5210b926.dl.dropboxusercontent.com (uc57dd0282269c88c66c5210b926.dl.dropboxusercontent.com)... 162.125.3.15, 2620:100:6018:15::a27d:30f\n",
            "Connecting to uc57dd0282269c88c66c5210b926.dl.dropboxusercontent.com (uc57dd0282269c88c66c5210b926.dl.dropboxusercontent.com)|162.125.3.15|:443... connected.\n",
            "HTTP request sent, awaiting response... 200 OK\n",
            "Length: 40477083 (39M) [text/plain]\n",
            "Saving to: ‘ccd_sch_029_1617_w_1a_11212017.csv?dl=0’\n",
            "\n",
            "ccd_sch_029_1617_w_ 100%[===================>]  38.60M  69.4MB/s    in 0.6s    \n",
            "\n",
            "2023-04-25 04:03:42 (69.4 MB/s) - ‘ccd_sch_029_1617_w_1a_11212017.csv?dl=0’ saved [40477083/40477083]\n",
            "\n"
          ]
        }
      ]
    },
    {
      "cell_type": "code",
      "source": [
        "school_info = pd.read_csv('ccd_sch_029_1617_w_1a_11212017.csv?dl=0', encoding='unicode_escape')"
      ],
      "metadata": {
        "id": "baD6nLnsdrmj",
        "colab": {
          "base_uri": "https://localhost:8080/"
        },
        "outputId": "80b0981f-eaf1-49fb-fb0f-51e72db91536"
      },
      "execution_count": 4,
      "outputs": [
        {
          "output_type": "stream",
          "name": "stderr",
          "text": [
            "<ipython-input-4-da1a7837c049>:1: DtypeWarning: Columns (6,9,14,15,18,19,21,22,25,26,29,31,35,39,41,42) have mixed types. Specify dtype option on import or set low_memory=False.\n",
            "  school_info = pd.read_csv('ccd_sch_029_1617_w_1a_11212017.csv?dl=0', encoding='unicode_escape')\n"
          ]
        }
      ]
    },
    {
      "cell_type": "markdown",
      "source": [
        "## Explore the contents of the data sets"
      ],
      "metadata": {
        "id": "OHVSgzXFd4nf"
      }
    },
    {
      "cell_type": "code",
      "source": [
        "edgap"
      ],
      "metadata": {
        "colab": {
          "base_uri": "https://localhost:8080/",
          "height": 485
        },
        "id": "YRFlNO3QIhET",
        "outputId": "ce62fa50-3947-460b-bbec-90ff3261e9b2"
      },
      "execution_count": 5,
      "outputs": [
        {
          "output_type": "execute_result",
          "data": {
            "text/plain": [
              "      NCESSCH School ID  CT Unemployment Rate  \\\n",
              "0          100001600143              0.117962   \n",
              "1          100008000024              0.063984   \n",
              "2          100008000225              0.056460   \n",
              "3          100017000029              0.044739   \n",
              "4          100018000040              0.077014   \n",
              "...                 ...                   ...   \n",
              "7981       560530200294              0.034549   \n",
              "7982       560569000311              0.069538   \n",
              "7983       560569500360              0.035159   \n",
              "7984       560576200324              0.063877   \n",
              "7985       560583000335              0.033553   \n",
              "\n",
              "      CT Pct Adults with College Degree  \\\n",
              "0                              0.445283   \n",
              "1                              0.662765   \n",
              "2                              0.701864   \n",
              "3                              0.692062   \n",
              "4                              0.640060   \n",
              "...                                 ...   \n",
              "7981                           0.590780   \n",
              "7982                           0.633860   \n",
              "7983                           0.764566   \n",
              "7984                           0.670532   \n",
              "7985                           0.736511   \n",
              "\n",
              "      CT Pct Childre In Married Couple Family  CT Median Household Income  \\\n",
              "0                                    0.346495                     42820.0   \n",
              "1                                    0.767619                     89320.0   \n",
              "2                                    0.713090                     84140.0   \n",
              "3                                    0.641283                     56500.0   \n",
              "4                                    0.834402                     54015.0   \n",
              "...                                       ...                         ...   \n",
              "7981                                 0.720077                     64891.0   \n",
              "7982                                 0.808841                     44603.0   \n",
              "7983                                 0.776570                     44896.0   \n",
              "7984                                 0.879324                     92134.0   \n",
              "7985                                 0.821128                     73849.0   \n",
              "\n",
              "      School ACT average (or equivalent if SAT score)  \\\n",
              "0                                           20.433455   \n",
              "1                                           19.498168   \n",
              "2                                           19.554335   \n",
              "3                                           17.737485   \n",
              "4                                           18.245421   \n",
              "...                                               ...   \n",
              "7981                                        18.500000   \n",
              "7982                                        22.300000   \n",
              "7983                                        21.500000   \n",
              "7984                                        19.700000   \n",
              "7985                                        21.800000   \n",
              "\n",
              "      School Pct Free and Reduced Lunch  \n",
              "0                              0.066901  \n",
              "1                              0.112412  \n",
              "2                              0.096816  \n",
              "3                              0.296960  \n",
              "4                              0.262641  \n",
              "...                                 ...  \n",
              "7981                           0.232156  \n",
              "7982                           0.083871  \n",
              "7983                           0.184829  \n",
              "7984                           0.112583  \n",
              "7985                           0.163701  \n",
              "\n",
              "[7986 rows x 7 columns]"
            ],
            "text/html": [
              "\n",
              "  <div id=\"df-a1cce77c-5b7e-42d8-9ab6-765e095af38f\">\n",
              "    <div class=\"colab-df-container\">\n",
              "      <div>\n",
              "<style scoped>\n",
              "    .dataframe tbody tr th:only-of-type {\n",
              "        vertical-align: middle;\n",
              "    }\n",
              "\n",
              "    .dataframe tbody tr th {\n",
              "        vertical-align: top;\n",
              "    }\n",
              "\n",
              "    .dataframe thead th {\n",
              "        text-align: right;\n",
              "    }\n",
              "</style>\n",
              "<table border=\"1\" class=\"dataframe\">\n",
              "  <thead>\n",
              "    <tr style=\"text-align: right;\">\n",
              "      <th></th>\n",
              "      <th>NCESSCH School ID</th>\n",
              "      <th>CT Unemployment Rate</th>\n",
              "      <th>CT Pct Adults with College Degree</th>\n",
              "      <th>CT Pct Childre In Married Couple Family</th>\n",
              "      <th>CT Median Household Income</th>\n",
              "      <th>School ACT average (or equivalent if SAT score)</th>\n",
              "      <th>School Pct Free and Reduced Lunch</th>\n",
              "    </tr>\n",
              "  </thead>\n",
              "  <tbody>\n",
              "    <tr>\n",
              "      <th>0</th>\n",
              "      <td>100001600143</td>\n",
              "      <td>0.117962</td>\n",
              "      <td>0.445283</td>\n",
              "      <td>0.346495</td>\n",
              "      <td>42820.0</td>\n",
              "      <td>20.433455</td>\n",
              "      <td>0.066901</td>\n",
              "    </tr>\n",
              "    <tr>\n",
              "      <th>1</th>\n",
              "      <td>100008000024</td>\n",
              "      <td>0.063984</td>\n",
              "      <td>0.662765</td>\n",
              "      <td>0.767619</td>\n",
              "      <td>89320.0</td>\n",
              "      <td>19.498168</td>\n",
              "      <td>0.112412</td>\n",
              "    </tr>\n",
              "    <tr>\n",
              "      <th>2</th>\n",
              "      <td>100008000225</td>\n",
              "      <td>0.056460</td>\n",
              "      <td>0.701864</td>\n",
              "      <td>0.713090</td>\n",
              "      <td>84140.0</td>\n",
              "      <td>19.554335</td>\n",
              "      <td>0.096816</td>\n",
              "    </tr>\n",
              "    <tr>\n",
              "      <th>3</th>\n",
              "      <td>100017000029</td>\n",
              "      <td>0.044739</td>\n",
              "      <td>0.692062</td>\n",
              "      <td>0.641283</td>\n",
              "      <td>56500.0</td>\n",
              "      <td>17.737485</td>\n",
              "      <td>0.296960</td>\n",
              "    </tr>\n",
              "    <tr>\n",
              "      <th>4</th>\n",
              "      <td>100018000040</td>\n",
              "      <td>0.077014</td>\n",
              "      <td>0.640060</td>\n",
              "      <td>0.834402</td>\n",
              "      <td>54015.0</td>\n",
              "      <td>18.245421</td>\n",
              "      <td>0.262641</td>\n",
              "    </tr>\n",
              "    <tr>\n",
              "      <th>...</th>\n",
              "      <td>...</td>\n",
              "      <td>...</td>\n",
              "      <td>...</td>\n",
              "      <td>...</td>\n",
              "      <td>...</td>\n",
              "      <td>...</td>\n",
              "      <td>...</td>\n",
              "    </tr>\n",
              "    <tr>\n",
              "      <th>7981</th>\n",
              "      <td>560530200294</td>\n",
              "      <td>0.034549</td>\n",
              "      <td>0.590780</td>\n",
              "      <td>0.720077</td>\n",
              "      <td>64891.0</td>\n",
              "      <td>18.500000</td>\n",
              "      <td>0.232156</td>\n",
              "    </tr>\n",
              "    <tr>\n",
              "      <th>7982</th>\n",
              "      <td>560569000311</td>\n",
              "      <td>0.069538</td>\n",
              "      <td>0.633860</td>\n",
              "      <td>0.808841</td>\n",
              "      <td>44603.0</td>\n",
              "      <td>22.300000</td>\n",
              "      <td>0.083871</td>\n",
              "    </tr>\n",
              "    <tr>\n",
              "      <th>7983</th>\n",
              "      <td>560569500360</td>\n",
              "      <td>0.035159</td>\n",
              "      <td>0.764566</td>\n",
              "      <td>0.776570</td>\n",
              "      <td>44896.0</td>\n",
              "      <td>21.500000</td>\n",
              "      <td>0.184829</td>\n",
              "    </tr>\n",
              "    <tr>\n",
              "      <th>7984</th>\n",
              "      <td>560576200324</td>\n",
              "      <td>0.063877</td>\n",
              "      <td>0.670532</td>\n",
              "      <td>0.879324</td>\n",
              "      <td>92134.0</td>\n",
              "      <td>19.700000</td>\n",
              "      <td>0.112583</td>\n",
              "    </tr>\n",
              "    <tr>\n",
              "      <th>7985</th>\n",
              "      <td>560583000335</td>\n",
              "      <td>0.033553</td>\n",
              "      <td>0.736511</td>\n",
              "      <td>0.821128</td>\n",
              "      <td>73849.0</td>\n",
              "      <td>21.800000</td>\n",
              "      <td>0.163701</td>\n",
              "    </tr>\n",
              "  </tbody>\n",
              "</table>\n",
              "<p>7986 rows × 7 columns</p>\n",
              "</div>\n",
              "      <button class=\"colab-df-convert\" onclick=\"convertToInteractive('df-a1cce77c-5b7e-42d8-9ab6-765e095af38f')\"\n",
              "              title=\"Convert this dataframe to an interactive table.\"\n",
              "              style=\"display:none;\">\n",
              "        \n",
              "  <svg xmlns=\"http://www.w3.org/2000/svg\" height=\"24px\"viewBox=\"0 0 24 24\"\n",
              "       width=\"24px\">\n",
              "    <path d=\"M0 0h24v24H0V0z\" fill=\"none\"/>\n",
              "    <path d=\"M18.56 5.44l.94 2.06.94-2.06 2.06-.94-2.06-.94-.94-2.06-.94 2.06-2.06.94zm-11 1L8.5 8.5l.94-2.06 2.06-.94-2.06-.94L8.5 2.5l-.94 2.06-2.06.94zm10 10l.94 2.06.94-2.06 2.06-.94-2.06-.94-.94-2.06-.94 2.06-2.06.94z\"/><path d=\"M17.41 7.96l-1.37-1.37c-.4-.4-.92-.59-1.43-.59-.52 0-1.04.2-1.43.59L10.3 9.45l-7.72 7.72c-.78.78-.78 2.05 0 2.83L4 21.41c.39.39.9.59 1.41.59.51 0 1.02-.2 1.41-.59l7.78-7.78 2.81-2.81c.8-.78.8-2.07 0-2.86zM5.41 20L4 18.59l7.72-7.72 1.47 1.35L5.41 20z\"/>\n",
              "  </svg>\n",
              "      </button>\n",
              "      \n",
              "  <style>\n",
              "    .colab-df-container {\n",
              "      display:flex;\n",
              "      flex-wrap:wrap;\n",
              "      gap: 12px;\n",
              "    }\n",
              "\n",
              "    .colab-df-convert {\n",
              "      background-color: #E8F0FE;\n",
              "      border: none;\n",
              "      border-radius: 50%;\n",
              "      cursor: pointer;\n",
              "      display: none;\n",
              "      fill: #1967D2;\n",
              "      height: 32px;\n",
              "      padding: 0 0 0 0;\n",
              "      width: 32px;\n",
              "    }\n",
              "\n",
              "    .colab-df-convert:hover {\n",
              "      background-color: #E2EBFA;\n",
              "      box-shadow: 0px 1px 2px rgba(60, 64, 67, 0.3), 0px 1px 3px 1px rgba(60, 64, 67, 0.15);\n",
              "      fill: #174EA6;\n",
              "    }\n",
              "\n",
              "    [theme=dark] .colab-df-convert {\n",
              "      background-color: #3B4455;\n",
              "      fill: #D2E3FC;\n",
              "    }\n",
              "\n",
              "    [theme=dark] .colab-df-convert:hover {\n",
              "      background-color: #434B5C;\n",
              "      box-shadow: 0px 1px 3px 1px rgba(0, 0, 0, 0.15);\n",
              "      filter: drop-shadow(0px 1px 2px rgba(0, 0, 0, 0.3));\n",
              "      fill: #FFFFFF;\n",
              "    }\n",
              "  </style>\n",
              "\n",
              "      <script>\n",
              "        const buttonEl =\n",
              "          document.querySelector('#df-a1cce77c-5b7e-42d8-9ab6-765e095af38f button.colab-df-convert');\n",
              "        buttonEl.style.display =\n",
              "          google.colab.kernel.accessAllowed ? 'block' : 'none';\n",
              "\n",
              "        async function convertToInteractive(key) {\n",
              "          const element = document.querySelector('#df-a1cce77c-5b7e-42d8-9ab6-765e095af38f');\n",
              "          const dataTable =\n",
              "            await google.colab.kernel.invokeFunction('convertToInteractive',\n",
              "                                                     [key], {});\n",
              "          if (!dataTable) return;\n",
              "\n",
              "          const docLinkHtml = 'Like what you see? Visit the ' +\n",
              "            '<a target=\"_blank\" href=https://colab.research.google.com/notebooks/data_table.ipynb>data table notebook</a>'\n",
              "            + ' to learn more about interactive tables.';\n",
              "          element.innerHTML = '';\n",
              "          dataTable['output_type'] = 'display_data';\n",
              "          await google.colab.output.renderOutput(dataTable, element);\n",
              "          const docLink = document.createElement('div');\n",
              "          docLink.innerHTML = docLinkHtml;\n",
              "          element.appendChild(docLink);\n",
              "        }\n",
              "      </script>\n",
              "    </div>\n",
              "  </div>\n",
              "  "
            ]
          },
          "metadata": {},
          "execution_count": 5
        }
      ]
    },
    {
      "cell_type": "code",
      "source": [
        "school_info"
      ],
      "metadata": {
        "colab": {
          "base_uri": "https://localhost:8080/",
          "height": 1000
        },
        "id": "JbCLGUqkIn2y",
        "outputId": "6de99716-3e54-4a77-dc08-c2bf19381f36"
      },
      "execution_count": 6,
      "outputs": [
        {
          "output_type": "execute_result",
          "data": {
            "text/plain": [
              "       SCHOOL_YEAR  FIPST            STATENAME  ST  \\\n",
              "0        2016-2017      1              ALABAMA  AL   \n",
              "1        2016-2017      1              ALABAMA  AL   \n",
              "2        2016-2017      1              ALABAMA  AL   \n",
              "3        2016-2017      1              ALABAMA  AL   \n",
              "4        2016-2017      1              ALABAMA  AL   \n",
              "...            ...    ...                  ...  ..   \n",
              "102178   2016-2017     78  U.S. VIRGIN ISLANDS  VI   \n",
              "102179   2016-2017     78  U.S. VIRGIN ISLANDS  VI   \n",
              "102180   2016-2017     78  U.S. VIRGIN ISLANDS  VI   \n",
              "102181   2016-2017     78  U.S. VIRGIN ISLANDS  VI   \n",
              "102182   2016-2017     78  U.S. VIRGIN ISLANDS  VI   \n",
              "\n",
              "                                    SCH_NAME  \\\n",
              "0           Sequoyah Sch - Chalkville Campus   \n",
              "1                                      Camps   \n",
              "2                                    Det Ctr   \n",
              "3              Wallace Sch - Mt Meigs Campus   \n",
              "4                  McNeel Sch - Vacca Campus   \n",
              "...                                      ...   \n",
              "102178  GLADYS A. ABRAHAM  ELEMENTARY SCHOOL   \n",
              "102179       ULLA F MULLER ELEMENTARY SCHOOL   \n",
              "102180       YVONNE BOWSKY ELEMENTARY SCHOOL   \n",
              "102181            CANCRYN JUNIOR HIGH SCHOOL   \n",
              "102182          BERTHA BOSCHULTE JUNIOR HIGH   \n",
              "\n",
              "                                         LEA_NAME STATE_AGENCY_NO  UNION  \\\n",
              "0                          Alabama Youth Services               1    NaN   \n",
              "1                          Alabama Youth Services               1    NaN   \n",
              "2                          Alabama Youth Services               1    NaN   \n",
              "3                          Alabama Youth Services               1    NaN   \n",
              "4                          Alabama Youth Services               1    NaN   \n",
              "...                                           ...             ...    ...   \n",
              "102178  Saint Thomas - Saint John School District               1    NaN   \n",
              "102179  Saint Thomas - Saint John School District               1    NaN   \n",
              "102180  Saint Thomas - Saint John School District               1    NaN   \n",
              "102181  Saint Thomas - Saint John School District               1    NaN   \n",
              "102182  Saint Thomas - Saint John School District               1    NaN   \n",
              "\n",
              "       ST_LEAID    LEAID  ... G_10_OFFERED  G_11_OFFERED  G_12_OFFERED  \\\n",
              "0        AL-210   100002  ...          Yes           Yes           Yes   \n",
              "1        AL-210   100002  ...          Yes           Yes           Yes   \n",
              "2        AL-210   100002  ...          Yes           Yes           Yes   \n",
              "3        AL-210   100002  ...          Yes           Yes           Yes   \n",
              "4        AL-210   100002  ...          Yes           Yes           Yes   \n",
              "...         ...      ...  ...          ...           ...           ...   \n",
              "102178   VI-001  7800030  ...           No            No            No   \n",
              "102179   VI-001  7800030  ...           No            No            No   \n",
              "102180   VI-001  7800030  ...           No            No            No   \n",
              "102181   VI-001  7800030  ...           No            No            No   \n",
              "102182   VI-001  7800030  ...           No            No            No   \n",
              "\n",
              "       G_13_OFFERED G_UG_OFFERED G_AE_OFFERED GSLO GSHI       LEVEL  \\\n",
              "0                No           No           No   07   12        High   \n",
              "1                No           No           No   07   12        High   \n",
              "2                No           No           No   07   12        High   \n",
              "3                No           No           No   07   12        High   \n",
              "4                No           No           No   07   12        High   \n",
              "...             ...          ...          ...  ...  ...         ...   \n",
              "102178           No           No           No   KG   06  Elementary   \n",
              "102179           No           No           No   KG   06  Elementary   \n",
              "102180           No           No           No   KG   06  Elementary   \n",
              "102181           No           No           No   07   08      Middle   \n",
              "102182           No           No           No   06   08      Middle   \n",
              "\n",
              "          IGOFFERED  \n",
              "0       As reported  \n",
              "1       As reported  \n",
              "2       As reported  \n",
              "3       As reported  \n",
              "4       As reported  \n",
              "...             ...  \n",
              "102178  As reported  \n",
              "102179  As reported  \n",
              "102180  As reported  \n",
              "102181  As reported  \n",
              "102182  As reported  \n",
              "\n",
              "[102183 rows x 65 columns]"
            ],
            "text/html": [
              "\n",
              "  <div id=\"df-7c99dfa1-38a4-4ea3-8e87-bb118de5a5b8\">\n",
              "    <div class=\"colab-df-container\">\n",
              "      <div>\n",
              "<style scoped>\n",
              "    .dataframe tbody tr th:only-of-type {\n",
              "        vertical-align: middle;\n",
              "    }\n",
              "\n",
              "    .dataframe tbody tr th {\n",
              "        vertical-align: top;\n",
              "    }\n",
              "\n",
              "    .dataframe thead th {\n",
              "        text-align: right;\n",
              "    }\n",
              "</style>\n",
              "<table border=\"1\" class=\"dataframe\">\n",
              "  <thead>\n",
              "    <tr style=\"text-align: right;\">\n",
              "      <th></th>\n",
              "      <th>SCHOOL_YEAR</th>\n",
              "      <th>FIPST</th>\n",
              "      <th>STATENAME</th>\n",
              "      <th>ST</th>\n",
              "      <th>SCH_NAME</th>\n",
              "      <th>LEA_NAME</th>\n",
              "      <th>STATE_AGENCY_NO</th>\n",
              "      <th>UNION</th>\n",
              "      <th>ST_LEAID</th>\n",
              "      <th>LEAID</th>\n",
              "      <th>...</th>\n",
              "      <th>G_10_OFFERED</th>\n",
              "      <th>G_11_OFFERED</th>\n",
              "      <th>G_12_OFFERED</th>\n",
              "      <th>G_13_OFFERED</th>\n",
              "      <th>G_UG_OFFERED</th>\n",
              "      <th>G_AE_OFFERED</th>\n",
              "      <th>GSLO</th>\n",
              "      <th>GSHI</th>\n",
              "      <th>LEVEL</th>\n",
              "      <th>IGOFFERED</th>\n",
              "    </tr>\n",
              "  </thead>\n",
              "  <tbody>\n",
              "    <tr>\n",
              "      <th>0</th>\n",
              "      <td>2016-2017</td>\n",
              "      <td>1</td>\n",
              "      <td>ALABAMA</td>\n",
              "      <td>AL</td>\n",
              "      <td>Sequoyah Sch - Chalkville Campus</td>\n",
              "      <td>Alabama Youth Services</td>\n",
              "      <td>1</td>\n",
              "      <td>NaN</td>\n",
              "      <td>AL-210</td>\n",
              "      <td>100002</td>\n",
              "      <td>...</td>\n",
              "      <td>Yes</td>\n",
              "      <td>Yes</td>\n",
              "      <td>Yes</td>\n",
              "      <td>No</td>\n",
              "      <td>No</td>\n",
              "      <td>No</td>\n",
              "      <td>07</td>\n",
              "      <td>12</td>\n",
              "      <td>High</td>\n",
              "      <td>As reported</td>\n",
              "    </tr>\n",
              "    <tr>\n",
              "      <th>1</th>\n",
              "      <td>2016-2017</td>\n",
              "      <td>1</td>\n",
              "      <td>ALABAMA</td>\n",
              "      <td>AL</td>\n",
              "      <td>Camps</td>\n",
              "      <td>Alabama Youth Services</td>\n",
              "      <td>1</td>\n",
              "      <td>NaN</td>\n",
              "      <td>AL-210</td>\n",
              "      <td>100002</td>\n",
              "      <td>...</td>\n",
              "      <td>Yes</td>\n",
              "      <td>Yes</td>\n",
              "      <td>Yes</td>\n",
              "      <td>No</td>\n",
              "      <td>No</td>\n",
              "      <td>No</td>\n",
              "      <td>07</td>\n",
              "      <td>12</td>\n",
              "      <td>High</td>\n",
              "      <td>As reported</td>\n",
              "    </tr>\n",
              "    <tr>\n",
              "      <th>2</th>\n",
              "      <td>2016-2017</td>\n",
              "      <td>1</td>\n",
              "      <td>ALABAMA</td>\n",
              "      <td>AL</td>\n",
              "      <td>Det Ctr</td>\n",
              "      <td>Alabama Youth Services</td>\n",
              "      <td>1</td>\n",
              "      <td>NaN</td>\n",
              "      <td>AL-210</td>\n",
              "      <td>100002</td>\n",
              "      <td>...</td>\n",
              "      <td>Yes</td>\n",
              "      <td>Yes</td>\n",
              "      <td>Yes</td>\n",
              "      <td>No</td>\n",
              "      <td>No</td>\n",
              "      <td>No</td>\n",
              "      <td>07</td>\n",
              "      <td>12</td>\n",
              "      <td>High</td>\n",
              "      <td>As reported</td>\n",
              "    </tr>\n",
              "    <tr>\n",
              "      <th>3</th>\n",
              "      <td>2016-2017</td>\n",
              "      <td>1</td>\n",
              "      <td>ALABAMA</td>\n",
              "      <td>AL</td>\n",
              "      <td>Wallace Sch - Mt Meigs Campus</td>\n",
              "      <td>Alabama Youth Services</td>\n",
              "      <td>1</td>\n",
              "      <td>NaN</td>\n",
              "      <td>AL-210</td>\n",
              "      <td>100002</td>\n",
              "      <td>...</td>\n",
              "      <td>Yes</td>\n",
              "      <td>Yes</td>\n",
              "      <td>Yes</td>\n",
              "      <td>No</td>\n",
              "      <td>No</td>\n",
              "      <td>No</td>\n",
              "      <td>07</td>\n",
              "      <td>12</td>\n",
              "      <td>High</td>\n",
              "      <td>As reported</td>\n",
              "    </tr>\n",
              "    <tr>\n",
              "      <th>4</th>\n",
              "      <td>2016-2017</td>\n",
              "      <td>1</td>\n",
              "      <td>ALABAMA</td>\n",
              "      <td>AL</td>\n",
              "      <td>McNeel Sch - Vacca Campus</td>\n",
              "      <td>Alabama Youth Services</td>\n",
              "      <td>1</td>\n",
              "      <td>NaN</td>\n",
              "      <td>AL-210</td>\n",
              "      <td>100002</td>\n",
              "      <td>...</td>\n",
              "      <td>Yes</td>\n",
              "      <td>Yes</td>\n",
              "      <td>Yes</td>\n",
              "      <td>No</td>\n",
              "      <td>No</td>\n",
              "      <td>No</td>\n",
              "      <td>07</td>\n",
              "      <td>12</td>\n",
              "      <td>High</td>\n",
              "      <td>As reported</td>\n",
              "    </tr>\n",
              "    <tr>\n",
              "      <th>...</th>\n",
              "      <td>...</td>\n",
              "      <td>...</td>\n",
              "      <td>...</td>\n",
              "      <td>...</td>\n",
              "      <td>...</td>\n",
              "      <td>...</td>\n",
              "      <td>...</td>\n",
              "      <td>...</td>\n",
              "      <td>...</td>\n",
              "      <td>...</td>\n",
              "      <td>...</td>\n",
              "      <td>...</td>\n",
              "      <td>...</td>\n",
              "      <td>...</td>\n",
              "      <td>...</td>\n",
              "      <td>...</td>\n",
              "      <td>...</td>\n",
              "      <td>...</td>\n",
              "      <td>...</td>\n",
              "      <td>...</td>\n",
              "      <td>...</td>\n",
              "    </tr>\n",
              "    <tr>\n",
              "      <th>102178</th>\n",
              "      <td>2016-2017</td>\n",
              "      <td>78</td>\n",
              "      <td>U.S. VIRGIN ISLANDS</td>\n",
              "      <td>VI</td>\n",
              "      <td>GLADYS A. ABRAHAM  ELEMENTARY SCHOOL</td>\n",
              "      <td>Saint Thomas - Saint John School District</td>\n",
              "      <td>1</td>\n",
              "      <td>NaN</td>\n",
              "      <td>VI-001</td>\n",
              "      <td>7800030</td>\n",
              "      <td>...</td>\n",
              "      <td>No</td>\n",
              "      <td>No</td>\n",
              "      <td>No</td>\n",
              "      <td>No</td>\n",
              "      <td>No</td>\n",
              "      <td>No</td>\n",
              "      <td>KG</td>\n",
              "      <td>06</td>\n",
              "      <td>Elementary</td>\n",
              "      <td>As reported</td>\n",
              "    </tr>\n",
              "    <tr>\n",
              "      <th>102179</th>\n",
              "      <td>2016-2017</td>\n",
              "      <td>78</td>\n",
              "      <td>U.S. VIRGIN ISLANDS</td>\n",
              "      <td>VI</td>\n",
              "      <td>ULLA F MULLER ELEMENTARY SCHOOL</td>\n",
              "      <td>Saint Thomas - Saint John School District</td>\n",
              "      <td>1</td>\n",
              "      <td>NaN</td>\n",
              "      <td>VI-001</td>\n",
              "      <td>7800030</td>\n",
              "      <td>...</td>\n",
              "      <td>No</td>\n",
              "      <td>No</td>\n",
              "      <td>No</td>\n",
              "      <td>No</td>\n",
              "      <td>No</td>\n",
              "      <td>No</td>\n",
              "      <td>KG</td>\n",
              "      <td>06</td>\n",
              "      <td>Elementary</td>\n",
              "      <td>As reported</td>\n",
              "    </tr>\n",
              "    <tr>\n",
              "      <th>102180</th>\n",
              "      <td>2016-2017</td>\n",
              "      <td>78</td>\n",
              "      <td>U.S. VIRGIN ISLANDS</td>\n",
              "      <td>VI</td>\n",
              "      <td>YVONNE BOWSKY ELEMENTARY SCHOOL</td>\n",
              "      <td>Saint Thomas - Saint John School District</td>\n",
              "      <td>1</td>\n",
              "      <td>NaN</td>\n",
              "      <td>VI-001</td>\n",
              "      <td>7800030</td>\n",
              "      <td>...</td>\n",
              "      <td>No</td>\n",
              "      <td>No</td>\n",
              "      <td>No</td>\n",
              "      <td>No</td>\n",
              "      <td>No</td>\n",
              "      <td>No</td>\n",
              "      <td>KG</td>\n",
              "      <td>06</td>\n",
              "      <td>Elementary</td>\n",
              "      <td>As reported</td>\n",
              "    </tr>\n",
              "    <tr>\n",
              "      <th>102181</th>\n",
              "      <td>2016-2017</td>\n",
              "      <td>78</td>\n",
              "      <td>U.S. VIRGIN ISLANDS</td>\n",
              "      <td>VI</td>\n",
              "      <td>CANCRYN JUNIOR HIGH SCHOOL</td>\n",
              "      <td>Saint Thomas - Saint John School District</td>\n",
              "      <td>1</td>\n",
              "      <td>NaN</td>\n",
              "      <td>VI-001</td>\n",
              "      <td>7800030</td>\n",
              "      <td>...</td>\n",
              "      <td>No</td>\n",
              "      <td>No</td>\n",
              "      <td>No</td>\n",
              "      <td>No</td>\n",
              "      <td>No</td>\n",
              "      <td>No</td>\n",
              "      <td>07</td>\n",
              "      <td>08</td>\n",
              "      <td>Middle</td>\n",
              "      <td>As reported</td>\n",
              "    </tr>\n",
              "    <tr>\n",
              "      <th>102182</th>\n",
              "      <td>2016-2017</td>\n",
              "      <td>78</td>\n",
              "      <td>U.S. VIRGIN ISLANDS</td>\n",
              "      <td>VI</td>\n",
              "      <td>BERTHA BOSCHULTE JUNIOR HIGH</td>\n",
              "      <td>Saint Thomas - Saint John School District</td>\n",
              "      <td>1</td>\n",
              "      <td>NaN</td>\n",
              "      <td>VI-001</td>\n",
              "      <td>7800030</td>\n",
              "      <td>...</td>\n",
              "      <td>No</td>\n",
              "      <td>No</td>\n",
              "      <td>No</td>\n",
              "      <td>No</td>\n",
              "      <td>No</td>\n",
              "      <td>No</td>\n",
              "      <td>06</td>\n",
              "      <td>08</td>\n",
              "      <td>Middle</td>\n",
              "      <td>As reported</td>\n",
              "    </tr>\n",
              "  </tbody>\n",
              "</table>\n",
              "<p>102183 rows × 65 columns</p>\n",
              "</div>\n",
              "      <button class=\"colab-df-convert\" onclick=\"convertToInteractive('df-7c99dfa1-38a4-4ea3-8e87-bb118de5a5b8')\"\n",
              "              title=\"Convert this dataframe to an interactive table.\"\n",
              "              style=\"display:none;\">\n",
              "        \n",
              "  <svg xmlns=\"http://www.w3.org/2000/svg\" height=\"24px\"viewBox=\"0 0 24 24\"\n",
              "       width=\"24px\">\n",
              "    <path d=\"M0 0h24v24H0V0z\" fill=\"none\"/>\n",
              "    <path d=\"M18.56 5.44l.94 2.06.94-2.06 2.06-.94-2.06-.94-.94-2.06-.94 2.06-2.06.94zm-11 1L8.5 8.5l.94-2.06 2.06-.94-2.06-.94L8.5 2.5l-.94 2.06-2.06.94zm10 10l.94 2.06.94-2.06 2.06-.94-2.06-.94-.94-2.06-.94 2.06-2.06.94z\"/><path d=\"M17.41 7.96l-1.37-1.37c-.4-.4-.92-.59-1.43-.59-.52 0-1.04.2-1.43.59L10.3 9.45l-7.72 7.72c-.78.78-.78 2.05 0 2.83L4 21.41c.39.39.9.59 1.41.59.51 0 1.02-.2 1.41-.59l7.78-7.78 2.81-2.81c.8-.78.8-2.07 0-2.86zM5.41 20L4 18.59l7.72-7.72 1.47 1.35L5.41 20z\"/>\n",
              "  </svg>\n",
              "      </button>\n",
              "      \n",
              "  <style>\n",
              "    .colab-df-container {\n",
              "      display:flex;\n",
              "      flex-wrap:wrap;\n",
              "      gap: 12px;\n",
              "    }\n",
              "\n",
              "    .colab-df-convert {\n",
              "      background-color: #E8F0FE;\n",
              "      border: none;\n",
              "      border-radius: 50%;\n",
              "      cursor: pointer;\n",
              "      display: none;\n",
              "      fill: #1967D2;\n",
              "      height: 32px;\n",
              "      padding: 0 0 0 0;\n",
              "      width: 32px;\n",
              "    }\n",
              "\n",
              "    .colab-df-convert:hover {\n",
              "      background-color: #E2EBFA;\n",
              "      box-shadow: 0px 1px 2px rgba(60, 64, 67, 0.3), 0px 1px 3px 1px rgba(60, 64, 67, 0.15);\n",
              "      fill: #174EA6;\n",
              "    }\n",
              "\n",
              "    [theme=dark] .colab-df-convert {\n",
              "      background-color: #3B4455;\n",
              "      fill: #D2E3FC;\n",
              "    }\n",
              "\n",
              "    [theme=dark] .colab-df-convert:hover {\n",
              "      background-color: #434B5C;\n",
              "      box-shadow: 0px 1px 3px 1px rgba(0, 0, 0, 0.15);\n",
              "      filter: drop-shadow(0px 1px 2px rgba(0, 0, 0, 0.3));\n",
              "      fill: #FFFFFF;\n",
              "    }\n",
              "  </style>\n",
              "\n",
              "      <script>\n",
              "        const buttonEl =\n",
              "          document.querySelector('#df-7c99dfa1-38a4-4ea3-8e87-bb118de5a5b8 button.colab-df-convert');\n",
              "        buttonEl.style.display =\n",
              "          google.colab.kernel.accessAllowed ? 'block' : 'none';\n",
              "\n",
              "        async function convertToInteractive(key) {\n",
              "          const element = document.querySelector('#df-7c99dfa1-38a4-4ea3-8e87-bb118de5a5b8');\n",
              "          const dataTable =\n",
              "            await google.colab.kernel.invokeFunction('convertToInteractive',\n",
              "                                                     [key], {});\n",
              "          if (!dataTable) return;\n",
              "\n",
              "          const docLinkHtml = 'Like what you see? Visit the ' +\n",
              "            '<a target=\"_blank\" href=https://colab.research.google.com/notebooks/data_table.ipynb>data table notebook</a>'\n",
              "            + ' to learn more about interactive tables.';\n",
              "          element.innerHTML = '';\n",
              "          dataTable['output_type'] = 'display_data';\n",
              "          await google.colab.output.renderOutput(dataTable, element);\n",
              "          const docLink = document.createElement('div');\n",
              "          docLink.innerHTML = docLinkHtml;\n",
              "          element.appendChild(docLink);\n",
              "        }\n",
              "      </script>\n",
              "    </div>\n",
              "  </div>\n",
              "  "
            ]
          },
          "metadata": {},
          "execution_count": 6
        }
      ]
    },
    {
      "cell_type": "markdown",
      "source": [
        "the school-info dataset has a lot more school encapsulated in the data than the EdGap dataset does."
      ],
      "metadata": {
        "id": "VlllBauhI3zr"
      }
    },
    {
      "cell_type": "markdown",
      "source": [
        "## Convert data types, if necessary"
      ],
      "metadata": {
        "id": "kTG4W94-irIA"
      }
    },
    {
      "cell_type": "markdown",
      "source": [
        "Both datasets share information regarding the schools, so we will have to identify the school ID as the keys for these datasets. Both datasets have this column labeled as `NCESSCH`. the school_info dataset however, has this as a float variable, we will have to convert it to int64 to match they column in the EdGap dataset."
      ],
      "metadata": {
        "id": "RUVBGbk4HSlJ"
      }
    },
    {
      "cell_type": "code",
      "source": [
        "school_info = school_info[school_info['NCESSCH'].isna() == False]"
      ],
      "metadata": {
        "id": "D2ZgWvFAG45x"
      },
      "execution_count": 7,
      "outputs": []
    },
    {
      "cell_type": "code",
      "source": [
        "school_info['NCESSCH'] = school_info['NCESSCH'].astype('int64')"
      ],
      "metadata": {
        "colab": {
          "base_uri": "https://localhost:8080/"
        },
        "id": "yFAZiEf5G55A",
        "outputId": "fb78e357-1798-4459-8efb-4994107803cc"
      },
      "execution_count": 8,
      "outputs": [
        {
          "output_type": "stream",
          "name": "stderr",
          "text": [
            "<ipython-input-8-006ea9997674>:1: SettingWithCopyWarning: \n",
            "A value is trying to be set on a copy of a slice from a DataFrame.\n",
            "Try using .loc[row_indexer,col_indexer] = value instead\n",
            "\n",
            "See the caveats in the documentation: https://pandas.pydata.org/pandas-docs/stable/user_guide/indexing.html#returning-a-view-versus-a-copy\n",
            "  school_info['NCESSCH'] = school_info['NCESSCH'].astype('int64')\n"
          ]
        }
      ]
    },
    {
      "cell_type": "markdown",
      "source": [
        "Now we can use the NCESSCH, or school ID, as the key to join the dataframes on."
      ],
      "metadata": {
        "id": "ini814_pKDtQ"
      }
    },
    {
      "cell_type": "markdown",
      "source": [
        "## Are the data suitable for answering the question?"
      ],
      "metadata": {
        "id": "35pKxSfb2zIs"
      }
    },
    {
      "cell_type": "markdown",
      "source": [
        "We want to perform quick exploratory data analysis to determine whether the data are sufficient to answer our question. If the data are not sufficient, we do not want to waste time doing anything that will not be productive."
      ],
      "metadata": {
        "id": "kywuWQaG22rv"
      }
    },
    {
      "cell_type": "markdown",
      "source": [
        "## Select relevant subsets of the data"
      ],
      "metadata": {
        "id": "HbsdH56_ijIS"
      }
    },
    {
      "cell_type": "markdown",
      "source": [
        "The school information data set contains a lot of information. We only need the year, school identity, location, and school type information.\n",
        "\n",
        "Keep the columns `SCHOOL_YEAR`, `NCESSCH`, `MSTATE`, `MZIP`, `SCH_TYPE_TEXT`, `LEVEL`"
      ],
      "metadata": {
        "id": "pkgfwkedip-C"
      }
    },
    {
      "cell_type": "code",
      "source": [
        "school_info = school_info[['SCHOOL_YEAR', 'NCESSCH', 'MSTATE', 'MZIP', 'SCH_TYPE_TEXT', 'LEVEL']]"
      ],
      "metadata": {
        "id": "JarSEWuf2L1T"
      },
      "execution_count": 9,
      "outputs": []
    },
    {
      "cell_type": "markdown",
      "source": [
        "## Rename columns"
      ],
      "metadata": {
        "id": "3wvK6vF-85aX"
      }
    },
    {
      "cell_type": "markdown",
      "source": [
        "Rename the columns `NCESSCH School ID`, `CT Pct Adults with College Degree`, `CT Unemployment Rate`, `SCT Pct Childre In Married Couple Family`, `CT Median Household Income`, `School ACT average (or equivalent if SAT score)`, `School Pct Free and Reduced Lunch` to `id`, `percent_college`, `rate_unemployment`, `percent_married`, `median_income`, `average_act`, `percent_lunch`."
      ],
      "metadata": {
        "id": "u6flMCjbKsHn"
      }
    },
    {
      "cell_type": "code",
      "source": [
        "edgap = edgap.rename(columns={\"NCESSCH School ID\":\"id\", \n",
        "              \"CT Pct Adults with College Degree\":\"percent_college\",        \n",
        "              \"CT Unemployment Rate\":\"rate_unemployment\", \n",
        "              \"CT Pct Childre In Married Couple Family\":\"percent_married\",\n",
        "              \"CT Median Household Income\":\"median_income\",\n",
        "              \"School ACT average (or equivalent if SAT score)\":\"average_act\",\n",
        "              \"School Pct Free and Reduced Lunch\":\"percent_lunch\"})"
      ],
      "metadata": {
        "id": "OXpbbI-v9QSY"
      },
      "execution_count": 10,
      "outputs": []
    },
    {
      "cell_type": "markdown",
      "source": [
        "Rename the columns `SCHOOL_YEAR`, `NCESSCH`, `MSTATE`, `MZIP`, `SCH_TYPE_TEXT`, `LEVEL` to `year`, `id`, `state`, `zip_code`, `school_type`, `school_level`"
      ],
      "metadata": {
        "id": "qVuEIRuWix51"
      }
    },
    {
      "cell_type": "code",
      "source": [
        "school_info = school_info.rename(columns={'SCHOOL_YEAR':'year', \n",
        "                                          'NCESSCH':'id', \n",
        "                                          'MSTATE':'state',\n",
        "                                          'MZIP':'zip_code',\n",
        "                                          'SCH_TYPE_TEXT':'school_type',\n",
        "                                          'LEVEL':'school_level'})"
      ],
      "metadata": {
        "id": "yDamqotG2Z-L"
      },
      "execution_count": 11,
      "outputs": []
    },
    {
      "cell_type": "markdown",
      "source": [
        "## Join data frames "
      ],
      "metadata": {
        "id": "BkCnFJdVryvv"
      }
    },
    {
      "cell_type": "markdown",
      "source": [
        "Merge the dataframes (left) on the `id` column, since those are the school ID's"
      ],
      "metadata": {
        "id": "uVB7XyuVL4F0"
      }
    },
    {
      "cell_type": "code",
      "source": [
        "df_educ = edgap.merge(school_info, how = 'left', on='id')"
      ],
      "metadata": {
        "id": "6xZfFcF82moU"
      },
      "execution_count": 12,
      "outputs": []
    },
    {
      "cell_type": "markdown",
      "source": [
        "Let's take a look at the new merged dataframe."
      ],
      "metadata": {
        "id": "Kb3QQE7AMOKE"
      }
    },
    {
      "cell_type": "code",
      "source": [
        "df_educ.info()"
      ],
      "metadata": {
        "colab": {
          "base_uri": "https://localhost:8080/"
        },
        "id": "EkoHPXTl2u4u",
        "outputId": "1e155b3e-3905-4c01-b820-74bd6fd08dec"
      },
      "execution_count": 13,
      "outputs": [
        {
          "output_type": "stream",
          "name": "stdout",
          "text": [
            "<class 'pandas.core.frame.DataFrame'>\n",
            "Int64Index: 7986 entries, 0 to 7985\n",
            "Data columns (total 12 columns):\n",
            " #   Column             Non-Null Count  Dtype  \n",
            "---  ------             --------------  -----  \n",
            " 0   id                 7986 non-null   int64  \n",
            " 1   rate_unemployment  7972 non-null   float64\n",
            " 2   percent_college    7973 non-null   float64\n",
            " 3   percent_married    7961 non-null   float64\n",
            " 4   median_income      7966 non-null   float64\n",
            " 5   average_act        7986 non-null   float64\n",
            " 6   percent_lunch      7986 non-null   float64\n",
            " 7   year               7898 non-null   object \n",
            " 8   state              7898 non-null   object \n",
            " 9   zip_code           7898 non-null   object \n",
            " 10  school_type        7898 non-null   object \n",
            " 11  school_level       7898 non-null   object \n",
            "dtypes: float64(6), int64(1), object(5)\n",
            "memory usage: 811.1+ KB\n"
          ]
        }
      ]
    },
    {
      "cell_type": "markdown",
      "source": [
        "## Quality Control"
      ],
      "metadata": {
        "id": "OgPjzVV5jbI9"
      }
    },
    {
      "cell_type": "markdown",
      "source": [
        "Let's look at a description of all the data in the new merged dataframe."
      ],
      "metadata": {
        "id": "VWpfqP7TNlO6"
      }
    },
    {
      "cell_type": "code",
      "source": [
        "df_educ.describe(include='all')"
      ],
      "metadata": {
        "colab": {
          "base_uri": "https://localhost:8080/",
          "height": 476
        },
        "id": "fd17LII3IwtT",
        "outputId": "976771ae-733e-4cb0-88ee-e89fd41b67e4"
      },
      "execution_count": 14,
      "outputs": [
        {
          "output_type": "execute_result",
          "data": {
            "text/plain": [
              "                  id  rate_unemployment  percent_college  percent_married  \\\n",
              "count   7.986000e+03        7972.000000      7973.000000      7961.000000   \n",
              "unique           NaN                NaN              NaN              NaN   \n",
              "top              NaN                NaN              NaN              NaN   \n",
              "freq             NaN                NaN              NaN              NaN   \n",
              "mean    3.321869e+11           0.098730         0.568930         0.633440   \n",
              "std     1.323638e+11           0.058959         0.165704         0.196764   \n",
              "min     1.000016e+11           0.000000         0.091493         0.000000   \n",
              "25%     2.105340e+11           0.058655         0.450828         0.523810   \n",
              "50%     3.600085e+11           0.085649         0.554979         0.667594   \n",
              "75%     4.226678e+11           0.123376         0.676571         0.777135   \n",
              "max     5.605830e+11           0.590278         1.000000         1.000000   \n",
              "\n",
              "        median_income  average_act  percent_lunch       year state  zip_code  \\\n",
              "count     7966.000000  7986.000000    7986.000000       7898  7898    7898.0   \n",
              "unique            NaN          NaN            NaN          1    20    6529.0   \n",
              "top               NaN          NaN            NaN  2016-2017    TX   10457.0   \n",
              "freq              NaN          NaN            NaN       7898   966      11.0   \n",
              "mean     52026.905222    20.181532       0.420651        NaN   NaN       NaN   \n",
              "std      24228.057079     2.595201       0.239754        NaN   NaN       NaN   \n",
              "min       3589.000000    -3.070818      -0.054545        NaN   NaN       NaN   \n",
              "25%      36597.250000    18.600000       0.238501        NaN   NaN       NaN   \n",
              "50%      46833.500000    20.400000       0.381570        NaN   NaN       NaN   \n",
              "75%      61369.250000    21.910867       0.575447        NaN   NaN       NaN   \n",
              "max     226181.000000    32.362637       0.998729        NaN   NaN       NaN   \n",
              "\n",
              "           school_type school_level  \n",
              "count             7898         7898  \n",
              "unique               4            4  \n",
              "top     Regular School         High  \n",
              "freq              7885         7230  \n",
              "mean               NaN          NaN  \n",
              "std                NaN          NaN  \n",
              "min                NaN          NaN  \n",
              "25%                NaN          NaN  \n",
              "50%                NaN          NaN  \n",
              "75%                NaN          NaN  \n",
              "max                NaN          NaN  "
            ],
            "text/html": [
              "\n",
              "  <div id=\"df-53d10ae1-b74f-4d94-9077-013584bf83af\">\n",
              "    <div class=\"colab-df-container\">\n",
              "      <div>\n",
              "<style scoped>\n",
              "    .dataframe tbody tr th:only-of-type {\n",
              "        vertical-align: middle;\n",
              "    }\n",
              "\n",
              "    .dataframe tbody tr th {\n",
              "        vertical-align: top;\n",
              "    }\n",
              "\n",
              "    .dataframe thead th {\n",
              "        text-align: right;\n",
              "    }\n",
              "</style>\n",
              "<table border=\"1\" class=\"dataframe\">\n",
              "  <thead>\n",
              "    <tr style=\"text-align: right;\">\n",
              "      <th></th>\n",
              "      <th>id</th>\n",
              "      <th>rate_unemployment</th>\n",
              "      <th>percent_college</th>\n",
              "      <th>percent_married</th>\n",
              "      <th>median_income</th>\n",
              "      <th>average_act</th>\n",
              "      <th>percent_lunch</th>\n",
              "      <th>year</th>\n",
              "      <th>state</th>\n",
              "      <th>zip_code</th>\n",
              "      <th>school_type</th>\n",
              "      <th>school_level</th>\n",
              "    </tr>\n",
              "  </thead>\n",
              "  <tbody>\n",
              "    <tr>\n",
              "      <th>count</th>\n",
              "      <td>7.986000e+03</td>\n",
              "      <td>7972.000000</td>\n",
              "      <td>7973.000000</td>\n",
              "      <td>7961.000000</td>\n",
              "      <td>7966.000000</td>\n",
              "      <td>7986.000000</td>\n",
              "      <td>7986.000000</td>\n",
              "      <td>7898</td>\n",
              "      <td>7898</td>\n",
              "      <td>7898.0</td>\n",
              "      <td>7898</td>\n",
              "      <td>7898</td>\n",
              "    </tr>\n",
              "    <tr>\n",
              "      <th>unique</th>\n",
              "      <td>NaN</td>\n",
              "      <td>NaN</td>\n",
              "      <td>NaN</td>\n",
              "      <td>NaN</td>\n",
              "      <td>NaN</td>\n",
              "      <td>NaN</td>\n",
              "      <td>NaN</td>\n",
              "      <td>1</td>\n",
              "      <td>20</td>\n",
              "      <td>6529.0</td>\n",
              "      <td>4</td>\n",
              "      <td>4</td>\n",
              "    </tr>\n",
              "    <tr>\n",
              "      <th>top</th>\n",
              "      <td>NaN</td>\n",
              "      <td>NaN</td>\n",
              "      <td>NaN</td>\n",
              "      <td>NaN</td>\n",
              "      <td>NaN</td>\n",
              "      <td>NaN</td>\n",
              "      <td>NaN</td>\n",
              "      <td>2016-2017</td>\n",
              "      <td>TX</td>\n",
              "      <td>10457.0</td>\n",
              "      <td>Regular School</td>\n",
              "      <td>High</td>\n",
              "    </tr>\n",
              "    <tr>\n",
              "      <th>freq</th>\n",
              "      <td>NaN</td>\n",
              "      <td>NaN</td>\n",
              "      <td>NaN</td>\n",
              "      <td>NaN</td>\n",
              "      <td>NaN</td>\n",
              "      <td>NaN</td>\n",
              "      <td>NaN</td>\n",
              "      <td>7898</td>\n",
              "      <td>966</td>\n",
              "      <td>11.0</td>\n",
              "      <td>7885</td>\n",
              "      <td>7230</td>\n",
              "    </tr>\n",
              "    <tr>\n",
              "      <th>mean</th>\n",
              "      <td>3.321869e+11</td>\n",
              "      <td>0.098730</td>\n",
              "      <td>0.568930</td>\n",
              "      <td>0.633440</td>\n",
              "      <td>52026.905222</td>\n",
              "      <td>20.181532</td>\n",
              "      <td>0.420651</td>\n",
              "      <td>NaN</td>\n",
              "      <td>NaN</td>\n",
              "      <td>NaN</td>\n",
              "      <td>NaN</td>\n",
              "      <td>NaN</td>\n",
              "    </tr>\n",
              "    <tr>\n",
              "      <th>std</th>\n",
              "      <td>1.323638e+11</td>\n",
              "      <td>0.058959</td>\n",
              "      <td>0.165704</td>\n",
              "      <td>0.196764</td>\n",
              "      <td>24228.057079</td>\n",
              "      <td>2.595201</td>\n",
              "      <td>0.239754</td>\n",
              "      <td>NaN</td>\n",
              "      <td>NaN</td>\n",
              "      <td>NaN</td>\n",
              "      <td>NaN</td>\n",
              "      <td>NaN</td>\n",
              "    </tr>\n",
              "    <tr>\n",
              "      <th>min</th>\n",
              "      <td>1.000016e+11</td>\n",
              "      <td>0.000000</td>\n",
              "      <td>0.091493</td>\n",
              "      <td>0.000000</td>\n",
              "      <td>3589.000000</td>\n",
              "      <td>-3.070818</td>\n",
              "      <td>-0.054545</td>\n",
              "      <td>NaN</td>\n",
              "      <td>NaN</td>\n",
              "      <td>NaN</td>\n",
              "      <td>NaN</td>\n",
              "      <td>NaN</td>\n",
              "    </tr>\n",
              "    <tr>\n",
              "      <th>25%</th>\n",
              "      <td>2.105340e+11</td>\n",
              "      <td>0.058655</td>\n",
              "      <td>0.450828</td>\n",
              "      <td>0.523810</td>\n",
              "      <td>36597.250000</td>\n",
              "      <td>18.600000</td>\n",
              "      <td>0.238501</td>\n",
              "      <td>NaN</td>\n",
              "      <td>NaN</td>\n",
              "      <td>NaN</td>\n",
              "      <td>NaN</td>\n",
              "      <td>NaN</td>\n",
              "    </tr>\n",
              "    <tr>\n",
              "      <th>50%</th>\n",
              "      <td>3.600085e+11</td>\n",
              "      <td>0.085649</td>\n",
              "      <td>0.554979</td>\n",
              "      <td>0.667594</td>\n",
              "      <td>46833.500000</td>\n",
              "      <td>20.400000</td>\n",
              "      <td>0.381570</td>\n",
              "      <td>NaN</td>\n",
              "      <td>NaN</td>\n",
              "      <td>NaN</td>\n",
              "      <td>NaN</td>\n",
              "      <td>NaN</td>\n",
              "    </tr>\n",
              "    <tr>\n",
              "      <th>75%</th>\n",
              "      <td>4.226678e+11</td>\n",
              "      <td>0.123376</td>\n",
              "      <td>0.676571</td>\n",
              "      <td>0.777135</td>\n",
              "      <td>61369.250000</td>\n",
              "      <td>21.910867</td>\n",
              "      <td>0.575447</td>\n",
              "      <td>NaN</td>\n",
              "      <td>NaN</td>\n",
              "      <td>NaN</td>\n",
              "      <td>NaN</td>\n",
              "      <td>NaN</td>\n",
              "    </tr>\n",
              "    <tr>\n",
              "      <th>max</th>\n",
              "      <td>5.605830e+11</td>\n",
              "      <td>0.590278</td>\n",
              "      <td>1.000000</td>\n",
              "      <td>1.000000</td>\n",
              "      <td>226181.000000</td>\n",
              "      <td>32.362637</td>\n",
              "      <td>0.998729</td>\n",
              "      <td>NaN</td>\n",
              "      <td>NaN</td>\n",
              "      <td>NaN</td>\n",
              "      <td>NaN</td>\n",
              "      <td>NaN</td>\n",
              "    </tr>\n",
              "  </tbody>\n",
              "</table>\n",
              "</div>\n",
              "      <button class=\"colab-df-convert\" onclick=\"convertToInteractive('df-53d10ae1-b74f-4d94-9077-013584bf83af')\"\n",
              "              title=\"Convert this dataframe to an interactive table.\"\n",
              "              style=\"display:none;\">\n",
              "        \n",
              "  <svg xmlns=\"http://www.w3.org/2000/svg\" height=\"24px\"viewBox=\"0 0 24 24\"\n",
              "       width=\"24px\">\n",
              "    <path d=\"M0 0h24v24H0V0z\" fill=\"none\"/>\n",
              "    <path d=\"M18.56 5.44l.94 2.06.94-2.06 2.06-.94-2.06-.94-.94-2.06-.94 2.06-2.06.94zm-11 1L8.5 8.5l.94-2.06 2.06-.94-2.06-.94L8.5 2.5l-.94 2.06-2.06.94zm10 10l.94 2.06.94-2.06 2.06-.94-2.06-.94-.94-2.06-.94 2.06-2.06.94z\"/><path d=\"M17.41 7.96l-1.37-1.37c-.4-.4-.92-.59-1.43-.59-.52 0-1.04.2-1.43.59L10.3 9.45l-7.72 7.72c-.78.78-.78 2.05 0 2.83L4 21.41c.39.39.9.59 1.41.59.51 0 1.02-.2 1.41-.59l7.78-7.78 2.81-2.81c.8-.78.8-2.07 0-2.86zM5.41 20L4 18.59l7.72-7.72 1.47 1.35L5.41 20z\"/>\n",
              "  </svg>\n",
              "      </button>\n",
              "      \n",
              "  <style>\n",
              "    .colab-df-container {\n",
              "      display:flex;\n",
              "      flex-wrap:wrap;\n",
              "      gap: 12px;\n",
              "    }\n",
              "\n",
              "    .colab-df-convert {\n",
              "      background-color: #E8F0FE;\n",
              "      border: none;\n",
              "      border-radius: 50%;\n",
              "      cursor: pointer;\n",
              "      display: none;\n",
              "      fill: #1967D2;\n",
              "      height: 32px;\n",
              "      padding: 0 0 0 0;\n",
              "      width: 32px;\n",
              "    }\n",
              "\n",
              "    .colab-df-convert:hover {\n",
              "      background-color: #E2EBFA;\n",
              "      box-shadow: 0px 1px 2px rgba(60, 64, 67, 0.3), 0px 1px 3px 1px rgba(60, 64, 67, 0.15);\n",
              "      fill: #174EA6;\n",
              "    }\n",
              "\n",
              "    [theme=dark] .colab-df-convert {\n",
              "      background-color: #3B4455;\n",
              "      fill: #D2E3FC;\n",
              "    }\n",
              "\n",
              "    [theme=dark] .colab-df-convert:hover {\n",
              "      background-color: #434B5C;\n",
              "      box-shadow: 0px 1px 3px 1px rgba(0, 0, 0, 0.15);\n",
              "      filter: drop-shadow(0px 1px 2px rgba(0, 0, 0, 0.3));\n",
              "      fill: #FFFFFF;\n",
              "    }\n",
              "  </style>\n",
              "\n",
              "      <script>\n",
              "        const buttonEl =\n",
              "          document.querySelector('#df-53d10ae1-b74f-4d94-9077-013584bf83af button.colab-df-convert');\n",
              "        buttonEl.style.display =\n",
              "          google.colab.kernel.accessAllowed ? 'block' : 'none';\n",
              "\n",
              "        async function convertToInteractive(key) {\n",
              "          const element = document.querySelector('#df-53d10ae1-b74f-4d94-9077-013584bf83af');\n",
              "          const dataTable =\n",
              "            await google.colab.kernel.invokeFunction('convertToInteractive',\n",
              "                                                     [key], {});\n",
              "          if (!dataTable) return;\n",
              "\n",
              "          const docLinkHtml = 'Like what you see? Visit the ' +\n",
              "            '<a target=\"_blank\" href=https://colab.research.google.com/notebooks/data_table.ipynb>data table notebook</a>'\n",
              "            + ' to learn more about interactive tables.';\n",
              "          element.innerHTML = '';\n",
              "          dataTable['output_type'] = 'display_data';\n",
              "          await google.colab.output.renderOutput(dataTable, element);\n",
              "          const docLink = document.createElement('div');\n",
              "          docLink.innerHTML = docLinkHtml;\n",
              "          element.appendChild(docLink);\n",
              "        }\n",
              "      </script>\n",
              "    </div>\n",
              "  </div>\n",
              "  "
            ]
          },
          "metadata": {},
          "execution_count": 14
        }
      ]
    },
    {
      "cell_type": "markdown",
      "source": [
        "Looka like we have a lot of NaN values. We can check those out later."
      ],
      "metadata": {
        "id": "mAtoDP6_NsCb"
      }
    },
    {
      "cell_type": "markdown",
      "source": [
        "Check for out-of-range values or values that do not match what we want to analyze. Either set values to `NaN` or remove the observations, as appropriate."
      ],
      "metadata": {
        "id": "tJqkbbiNjgxZ"
      }
    },
    {
      "cell_type": "code",
      "source": [
        "df_educ.agg(['min', 'max']).round(2)"
      ],
      "metadata": {
        "colab": {
          "base_uri": "https://localhost:8080/",
          "height": 167
        },
        "id": "j_TS4NQJIA-e",
        "outputId": "29dae281-2dbb-4161-fc43-e38c63cd0326"
      },
      "execution_count": 15,
      "outputs": [
        {
          "output_type": "stream",
          "name": "stderr",
          "text": [
            "<ipython-input-15-71805aea5120>:1: FutureWarning: ['year', 'state', 'zip_code', 'school_type', 'school_level'] did not aggregate successfully. If any error is raised this will raise in a future version of pandas. Drop these columns/ops to avoid this warning.\n",
            "  df_educ.agg(['min', 'max']).round(2)\n"
          ]
        },
        {
          "output_type": "execute_result",
          "data": {
            "text/plain": [
              "               id  rate_unemployment  percent_college  percent_married  \\\n",
              "min  100001600143               0.00             0.09              0.0   \n",
              "max  560583000335               0.59             1.00              1.0   \n",
              "\n",
              "     median_income  average_act  percent_lunch  \n",
              "min         3589.0        -3.07          -0.05  \n",
              "max       226181.0        32.36           1.00  "
            ],
            "text/html": [
              "\n",
              "  <div id=\"df-c315caef-91a4-4f8a-91dc-93b637300a5f\">\n",
              "    <div class=\"colab-df-container\">\n",
              "      <div>\n",
              "<style scoped>\n",
              "    .dataframe tbody tr th:only-of-type {\n",
              "        vertical-align: middle;\n",
              "    }\n",
              "\n",
              "    .dataframe tbody tr th {\n",
              "        vertical-align: top;\n",
              "    }\n",
              "\n",
              "    .dataframe thead th {\n",
              "        text-align: right;\n",
              "    }\n",
              "</style>\n",
              "<table border=\"1\" class=\"dataframe\">\n",
              "  <thead>\n",
              "    <tr style=\"text-align: right;\">\n",
              "      <th></th>\n",
              "      <th>id</th>\n",
              "      <th>rate_unemployment</th>\n",
              "      <th>percent_college</th>\n",
              "      <th>percent_married</th>\n",
              "      <th>median_income</th>\n",
              "      <th>average_act</th>\n",
              "      <th>percent_lunch</th>\n",
              "    </tr>\n",
              "  </thead>\n",
              "  <tbody>\n",
              "    <tr>\n",
              "      <th>min</th>\n",
              "      <td>100001600143</td>\n",
              "      <td>0.00</td>\n",
              "      <td>0.09</td>\n",
              "      <td>0.0</td>\n",
              "      <td>3589.0</td>\n",
              "      <td>-3.07</td>\n",
              "      <td>-0.05</td>\n",
              "    </tr>\n",
              "    <tr>\n",
              "      <th>max</th>\n",
              "      <td>560583000335</td>\n",
              "      <td>0.59</td>\n",
              "      <td>1.00</td>\n",
              "      <td>1.0</td>\n",
              "      <td>226181.0</td>\n",
              "      <td>32.36</td>\n",
              "      <td>1.00</td>\n",
              "    </tr>\n",
              "  </tbody>\n",
              "</table>\n",
              "</div>\n",
              "      <button class=\"colab-df-convert\" onclick=\"convertToInteractive('df-c315caef-91a4-4f8a-91dc-93b637300a5f')\"\n",
              "              title=\"Convert this dataframe to an interactive table.\"\n",
              "              style=\"display:none;\">\n",
              "        \n",
              "  <svg xmlns=\"http://www.w3.org/2000/svg\" height=\"24px\"viewBox=\"0 0 24 24\"\n",
              "       width=\"24px\">\n",
              "    <path d=\"M0 0h24v24H0V0z\" fill=\"none\"/>\n",
              "    <path d=\"M18.56 5.44l.94 2.06.94-2.06 2.06-.94-2.06-.94-.94-2.06-.94 2.06-2.06.94zm-11 1L8.5 8.5l.94-2.06 2.06-.94-2.06-.94L8.5 2.5l-.94 2.06-2.06.94zm10 10l.94 2.06.94-2.06 2.06-.94-2.06-.94-.94-2.06-.94 2.06-2.06.94z\"/><path d=\"M17.41 7.96l-1.37-1.37c-.4-.4-.92-.59-1.43-.59-.52 0-1.04.2-1.43.59L10.3 9.45l-7.72 7.72c-.78.78-.78 2.05 0 2.83L4 21.41c.39.39.9.59 1.41.59.51 0 1.02-.2 1.41-.59l7.78-7.78 2.81-2.81c.8-.78.8-2.07 0-2.86zM5.41 20L4 18.59l7.72-7.72 1.47 1.35L5.41 20z\"/>\n",
              "  </svg>\n",
              "      </button>\n",
              "      \n",
              "  <style>\n",
              "    .colab-df-container {\n",
              "      display:flex;\n",
              "      flex-wrap:wrap;\n",
              "      gap: 12px;\n",
              "    }\n",
              "\n",
              "    .colab-df-convert {\n",
              "      background-color: #E8F0FE;\n",
              "      border: none;\n",
              "      border-radius: 50%;\n",
              "      cursor: pointer;\n",
              "      display: none;\n",
              "      fill: #1967D2;\n",
              "      height: 32px;\n",
              "      padding: 0 0 0 0;\n",
              "      width: 32px;\n",
              "    }\n",
              "\n",
              "    .colab-df-convert:hover {\n",
              "      background-color: #E2EBFA;\n",
              "      box-shadow: 0px 1px 2px rgba(60, 64, 67, 0.3), 0px 1px 3px 1px rgba(60, 64, 67, 0.15);\n",
              "      fill: #174EA6;\n",
              "    }\n",
              "\n",
              "    [theme=dark] .colab-df-convert {\n",
              "      background-color: #3B4455;\n",
              "      fill: #D2E3FC;\n",
              "    }\n",
              "\n",
              "    [theme=dark] .colab-df-convert:hover {\n",
              "      background-color: #434B5C;\n",
              "      box-shadow: 0px 1px 3px 1px rgba(0, 0, 0, 0.15);\n",
              "      filter: drop-shadow(0px 1px 2px rgba(0, 0, 0, 0.3));\n",
              "      fill: #FFFFFF;\n",
              "    }\n",
              "  </style>\n",
              "\n",
              "      <script>\n",
              "        const buttonEl =\n",
              "          document.querySelector('#df-c315caef-91a4-4f8a-91dc-93b637300a5f button.colab-df-convert');\n",
              "        buttonEl.style.display =\n",
              "          google.colab.kernel.accessAllowed ? 'block' : 'none';\n",
              "\n",
              "        async function convertToInteractive(key) {\n",
              "          const element = document.querySelector('#df-c315caef-91a4-4f8a-91dc-93b637300a5f');\n",
              "          const dataTable =\n",
              "            await google.colab.kernel.invokeFunction('convertToInteractive',\n",
              "                                                     [key], {});\n",
              "          if (!dataTable) return;\n",
              "\n",
              "          const docLinkHtml = 'Like what you see? Visit the ' +\n",
              "            '<a target=\"_blank\" href=https://colab.research.google.com/notebooks/data_table.ipynb>data table notebook</a>'\n",
              "            + ' to learn more about interactive tables.';\n",
              "          element.innerHTML = '';\n",
              "          dataTable['output_type'] = 'display_data';\n",
              "          await google.colab.output.renderOutput(dataTable, element);\n",
              "          const docLink = document.createElement('div');\n",
              "          docLink.innerHTML = docLinkHtml;\n",
              "          element.appendChild(docLink);\n",
              "        }\n",
              "      </script>\n",
              "    </div>\n",
              "  </div>\n",
              "  "
            ]
          },
          "metadata": {},
          "execution_count": 15
        }
      ]
    },
    {
      "cell_type": "markdown",
      "source": [
        "There is a min of -3.07 for average_act, which in invalid (minimum score is 1). There is also a negative percent_lunch value, which does not make sense."
      ],
      "metadata": {
        "id": "3A2h4I2y4vhr"
      }
    },
    {
      "cell_type": "markdown",
      "source": [
        "drop all invalid ACT scores"
      ],
      "metadata": {
        "id": "iyYpCkijK2vh"
      }
    },
    {
      "cell_type": "code",
      "source": [
        "df_educ = df_educ.drop(df_educ.loc[df_educ['average_act'] <= 0].index)"
      ],
      "metadata": {
        "id": "Nodi0bpnG8k_"
      },
      "execution_count": 16,
      "outputs": []
    },
    {
      "cell_type": "markdown",
      "source": [
        "identify all invalid percent_lunch values"
      ],
      "metadata": {
        "id": "QvtoYxeJMZio"
      }
    },
    {
      "cell_type": "code",
      "source": [
        "df_educ[df_educ['percent_lunch'] <= 0]"
      ],
      "metadata": {
        "colab": {
          "base_uri": "https://localhost:8080/",
          "height": 661
        },
        "id": "2auFv-dhHqh_",
        "outputId": "1816741d-0cf6-40ed-d0ae-90f745869cc4"
      },
      "execution_count": 17,
      "outputs": [
        {
          "output_type": "execute_result",
          "data": {
            "text/plain": [
              "                id  rate_unemployment  percent_college  percent_married  \\\n",
              "325   120144005634           0.102484         0.329146         0.611615   \n",
              "329   120144007822           0.052551         0.764584         0.758966   \n",
              "1398  173897003956           0.160519         0.673671         0.554577   \n",
              "1422  174098004105           0.040594         0.789430         0.831663   \n",
              "1946  210372001486           0.173825         0.901288         0.000000   \n",
              "...            ...                ...              ...              ...   \n",
              "6787  482325002357           0.022008         0.941176         0.707138   \n",
              "7655  550426000456           0.045510         0.595078         0.743952   \n",
              "7723  550750000853           0.037732         0.716785         0.816224   \n",
              "7936  551662002170           0.066324         0.937226         0.900804   \n",
              "7978  560509000273           0.028783         0.676433         0.523568   \n",
              "\n",
              "      median_income  average_act  percent_lunch       year state zip_code  \\\n",
              "325         33846.0    20.909646       0.000000  2016-2017    FL    34761   \n",
              "329         77545.0    19.468864       0.000000  2016-2017    FL    32809   \n",
              "1398        68924.0    16.500000      -0.004777  2016-2017    IL    60473   \n",
              "1422        69466.0    21.400000      -0.007792  2016-2017    IL    61571   \n",
              "1946        13480.0    23.000000       0.000000  2016-2017    KY    40475   \n",
              "...             ...          ...            ...        ...   ...      ...   \n",
              "6787       145536.0    26.355311       0.000000  2016-2017    TX    75205   \n",
              "7655        58787.0    21.700000       0.000000  2016-2017    WI    53020   \n",
              "7723        74892.0    24.200000       0.000000  2016-2017    WI    53044   \n",
              "7936       135240.0    25.800000       0.000000  2016-2017    WI    53217   \n",
              "7978        36091.0    19.900000       0.000000  2016-2017    WY    82201   \n",
              "\n",
              "         school_type school_level  \n",
              "325   Regular School         High  \n",
              "329   Regular School         High  \n",
              "1398  Regular School         High  \n",
              "1422  Regular School         High  \n",
              "1946  Regular School         High  \n",
              "...              ...          ...  \n",
              "6787  Regular School         High  \n",
              "7655  Regular School         High  \n",
              "7723  Regular School         High  \n",
              "7936  Regular School         High  \n",
              "7978  Regular School         High  \n",
              "\n",
              "[75 rows x 12 columns]"
            ],
            "text/html": [
              "\n",
              "  <div id=\"df-786e95bf-5bb6-4630-b3cd-e0d677e71ef3\">\n",
              "    <div class=\"colab-df-container\">\n",
              "      <div>\n",
              "<style scoped>\n",
              "    .dataframe tbody tr th:only-of-type {\n",
              "        vertical-align: middle;\n",
              "    }\n",
              "\n",
              "    .dataframe tbody tr th {\n",
              "        vertical-align: top;\n",
              "    }\n",
              "\n",
              "    .dataframe thead th {\n",
              "        text-align: right;\n",
              "    }\n",
              "</style>\n",
              "<table border=\"1\" class=\"dataframe\">\n",
              "  <thead>\n",
              "    <tr style=\"text-align: right;\">\n",
              "      <th></th>\n",
              "      <th>id</th>\n",
              "      <th>rate_unemployment</th>\n",
              "      <th>percent_college</th>\n",
              "      <th>percent_married</th>\n",
              "      <th>median_income</th>\n",
              "      <th>average_act</th>\n",
              "      <th>percent_lunch</th>\n",
              "      <th>year</th>\n",
              "      <th>state</th>\n",
              "      <th>zip_code</th>\n",
              "      <th>school_type</th>\n",
              "      <th>school_level</th>\n",
              "    </tr>\n",
              "  </thead>\n",
              "  <tbody>\n",
              "    <tr>\n",
              "      <th>325</th>\n",
              "      <td>120144005634</td>\n",
              "      <td>0.102484</td>\n",
              "      <td>0.329146</td>\n",
              "      <td>0.611615</td>\n",
              "      <td>33846.0</td>\n",
              "      <td>20.909646</td>\n",
              "      <td>0.000000</td>\n",
              "      <td>2016-2017</td>\n",
              "      <td>FL</td>\n",
              "      <td>34761</td>\n",
              "      <td>Regular School</td>\n",
              "      <td>High</td>\n",
              "    </tr>\n",
              "    <tr>\n",
              "      <th>329</th>\n",
              "      <td>120144007822</td>\n",
              "      <td>0.052551</td>\n",
              "      <td>0.764584</td>\n",
              "      <td>0.758966</td>\n",
              "      <td>77545.0</td>\n",
              "      <td>19.468864</td>\n",
              "      <td>0.000000</td>\n",
              "      <td>2016-2017</td>\n",
              "      <td>FL</td>\n",
              "      <td>32809</td>\n",
              "      <td>Regular School</td>\n",
              "      <td>High</td>\n",
              "    </tr>\n",
              "    <tr>\n",
              "      <th>1398</th>\n",
              "      <td>173897003956</td>\n",
              "      <td>0.160519</td>\n",
              "      <td>0.673671</td>\n",
              "      <td>0.554577</td>\n",
              "      <td>68924.0</td>\n",
              "      <td>16.500000</td>\n",
              "      <td>-0.004777</td>\n",
              "      <td>2016-2017</td>\n",
              "      <td>IL</td>\n",
              "      <td>60473</td>\n",
              "      <td>Regular School</td>\n",
              "      <td>High</td>\n",
              "    </tr>\n",
              "    <tr>\n",
              "      <th>1422</th>\n",
              "      <td>174098004105</td>\n",
              "      <td>0.040594</td>\n",
              "      <td>0.789430</td>\n",
              "      <td>0.831663</td>\n",
              "      <td>69466.0</td>\n",
              "      <td>21.400000</td>\n",
              "      <td>-0.007792</td>\n",
              "      <td>2016-2017</td>\n",
              "      <td>IL</td>\n",
              "      <td>61571</td>\n",
              "      <td>Regular School</td>\n",
              "      <td>High</td>\n",
              "    </tr>\n",
              "    <tr>\n",
              "      <th>1946</th>\n",
              "      <td>210372001486</td>\n",
              "      <td>0.173825</td>\n",
              "      <td>0.901288</td>\n",
              "      <td>0.000000</td>\n",
              "      <td>13480.0</td>\n",
              "      <td>23.000000</td>\n",
              "      <td>0.000000</td>\n",
              "      <td>2016-2017</td>\n",
              "      <td>KY</td>\n",
              "      <td>40475</td>\n",
              "      <td>Regular School</td>\n",
              "      <td>High</td>\n",
              "    </tr>\n",
              "    <tr>\n",
              "      <th>...</th>\n",
              "      <td>...</td>\n",
              "      <td>...</td>\n",
              "      <td>...</td>\n",
              "      <td>...</td>\n",
              "      <td>...</td>\n",
              "      <td>...</td>\n",
              "      <td>...</td>\n",
              "      <td>...</td>\n",
              "      <td>...</td>\n",
              "      <td>...</td>\n",
              "      <td>...</td>\n",
              "      <td>...</td>\n",
              "    </tr>\n",
              "    <tr>\n",
              "      <th>6787</th>\n",
              "      <td>482325002357</td>\n",
              "      <td>0.022008</td>\n",
              "      <td>0.941176</td>\n",
              "      <td>0.707138</td>\n",
              "      <td>145536.0</td>\n",
              "      <td>26.355311</td>\n",
              "      <td>0.000000</td>\n",
              "      <td>2016-2017</td>\n",
              "      <td>TX</td>\n",
              "      <td>75205</td>\n",
              "      <td>Regular School</td>\n",
              "      <td>High</td>\n",
              "    </tr>\n",
              "    <tr>\n",
              "      <th>7655</th>\n",
              "      <td>550426000456</td>\n",
              "      <td>0.045510</td>\n",
              "      <td>0.595078</td>\n",
              "      <td>0.743952</td>\n",
              "      <td>58787.0</td>\n",
              "      <td>21.700000</td>\n",
              "      <td>0.000000</td>\n",
              "      <td>2016-2017</td>\n",
              "      <td>WI</td>\n",
              "      <td>53020</td>\n",
              "      <td>Regular School</td>\n",
              "      <td>High</td>\n",
              "    </tr>\n",
              "    <tr>\n",
              "      <th>7723</th>\n",
              "      <td>550750000853</td>\n",
              "      <td>0.037732</td>\n",
              "      <td>0.716785</td>\n",
              "      <td>0.816224</td>\n",
              "      <td>74892.0</td>\n",
              "      <td>24.200000</td>\n",
              "      <td>0.000000</td>\n",
              "      <td>2016-2017</td>\n",
              "      <td>WI</td>\n",
              "      <td>53044</td>\n",
              "      <td>Regular School</td>\n",
              "      <td>High</td>\n",
              "    </tr>\n",
              "    <tr>\n",
              "      <th>7936</th>\n",
              "      <td>551662002170</td>\n",
              "      <td>0.066324</td>\n",
              "      <td>0.937226</td>\n",
              "      <td>0.900804</td>\n",
              "      <td>135240.0</td>\n",
              "      <td>25.800000</td>\n",
              "      <td>0.000000</td>\n",
              "      <td>2016-2017</td>\n",
              "      <td>WI</td>\n",
              "      <td>53217</td>\n",
              "      <td>Regular School</td>\n",
              "      <td>High</td>\n",
              "    </tr>\n",
              "    <tr>\n",
              "      <th>7978</th>\n",
              "      <td>560509000273</td>\n",
              "      <td>0.028783</td>\n",
              "      <td>0.676433</td>\n",
              "      <td>0.523568</td>\n",
              "      <td>36091.0</td>\n",
              "      <td>19.900000</td>\n",
              "      <td>0.000000</td>\n",
              "      <td>2016-2017</td>\n",
              "      <td>WY</td>\n",
              "      <td>82201</td>\n",
              "      <td>Regular School</td>\n",
              "      <td>High</td>\n",
              "    </tr>\n",
              "  </tbody>\n",
              "</table>\n",
              "<p>75 rows × 12 columns</p>\n",
              "</div>\n",
              "      <button class=\"colab-df-convert\" onclick=\"convertToInteractive('df-786e95bf-5bb6-4630-b3cd-e0d677e71ef3')\"\n",
              "              title=\"Convert this dataframe to an interactive table.\"\n",
              "              style=\"display:none;\">\n",
              "        \n",
              "  <svg xmlns=\"http://www.w3.org/2000/svg\" height=\"24px\"viewBox=\"0 0 24 24\"\n",
              "       width=\"24px\">\n",
              "    <path d=\"M0 0h24v24H0V0z\" fill=\"none\"/>\n",
              "    <path d=\"M18.56 5.44l.94 2.06.94-2.06 2.06-.94-2.06-.94-.94-2.06-.94 2.06-2.06.94zm-11 1L8.5 8.5l.94-2.06 2.06-.94-2.06-.94L8.5 2.5l-.94 2.06-2.06.94zm10 10l.94 2.06.94-2.06 2.06-.94-2.06-.94-.94-2.06-.94 2.06-2.06.94z\"/><path d=\"M17.41 7.96l-1.37-1.37c-.4-.4-.92-.59-1.43-.59-.52 0-1.04.2-1.43.59L10.3 9.45l-7.72 7.72c-.78.78-.78 2.05 0 2.83L4 21.41c.39.39.9.59 1.41.59.51 0 1.02-.2 1.41-.59l7.78-7.78 2.81-2.81c.8-.78.8-2.07 0-2.86zM5.41 20L4 18.59l7.72-7.72 1.47 1.35L5.41 20z\"/>\n",
              "  </svg>\n",
              "      </button>\n",
              "      \n",
              "  <style>\n",
              "    .colab-df-container {\n",
              "      display:flex;\n",
              "      flex-wrap:wrap;\n",
              "      gap: 12px;\n",
              "    }\n",
              "\n",
              "    .colab-df-convert {\n",
              "      background-color: #E8F0FE;\n",
              "      border: none;\n",
              "      border-radius: 50%;\n",
              "      cursor: pointer;\n",
              "      display: none;\n",
              "      fill: #1967D2;\n",
              "      height: 32px;\n",
              "      padding: 0 0 0 0;\n",
              "      width: 32px;\n",
              "    }\n",
              "\n",
              "    .colab-df-convert:hover {\n",
              "      background-color: #E2EBFA;\n",
              "      box-shadow: 0px 1px 2px rgba(60, 64, 67, 0.3), 0px 1px 3px 1px rgba(60, 64, 67, 0.15);\n",
              "      fill: #174EA6;\n",
              "    }\n",
              "\n",
              "    [theme=dark] .colab-df-convert {\n",
              "      background-color: #3B4455;\n",
              "      fill: #D2E3FC;\n",
              "    }\n",
              "\n",
              "    [theme=dark] .colab-df-convert:hover {\n",
              "      background-color: #434B5C;\n",
              "      box-shadow: 0px 1px 3px 1px rgba(0, 0, 0, 0.15);\n",
              "      filter: drop-shadow(0px 1px 2px rgba(0, 0, 0, 0.3));\n",
              "      fill: #FFFFFF;\n",
              "    }\n",
              "  </style>\n",
              "\n",
              "      <script>\n",
              "        const buttonEl =\n",
              "          document.querySelector('#df-786e95bf-5bb6-4630-b3cd-e0d677e71ef3 button.colab-df-convert');\n",
              "        buttonEl.style.display =\n",
              "          google.colab.kernel.accessAllowed ? 'block' : 'none';\n",
              "\n",
              "        async function convertToInteractive(key) {\n",
              "          const element = document.querySelector('#df-786e95bf-5bb6-4630-b3cd-e0d677e71ef3');\n",
              "          const dataTable =\n",
              "            await google.colab.kernel.invokeFunction('convertToInteractive',\n",
              "                                                     [key], {});\n",
              "          if (!dataTable) return;\n",
              "\n",
              "          const docLinkHtml = 'Like what you see? Visit the ' +\n",
              "            '<a target=\"_blank\" href=https://colab.research.google.com/notebooks/data_table.ipynb>data table notebook</a>'\n",
              "            + ' to learn more about interactive tables.';\n",
              "          element.innerHTML = '';\n",
              "          dataTable['output_type'] = 'display_data';\n",
              "          await google.colab.output.renderOutput(dataTable, element);\n",
              "          const docLink = document.createElement('div');\n",
              "          docLink.innerHTML = docLinkHtml;\n",
              "          element.appendChild(docLink);\n",
              "        }\n",
              "      </script>\n",
              "    </div>\n",
              "  </div>\n",
              "  "
            ]
          },
          "metadata": {},
          "execution_count": 17
        }
      ]
    },
    {
      "cell_type": "markdown",
      "source": [
        "set all invalid percent_lunch values to NaN"
      ],
      "metadata": {
        "id": "L73nf3IHL4ro"
      }
    },
    {
      "cell_type": "code",
      "source": [
        "df_educ.loc[df_educ['percent_lunch'] <= 0, 'percent_lunch'] = np.nan"
      ],
      "metadata": {
        "id": "oHbiBsNqLklG"
      },
      "execution_count": 18,
      "outputs": []
    },
    {
      "cell_type": "markdown",
      "source": [
        "Now let's check what our range of school levels are."
      ],
      "metadata": {
        "id": "1RAlwPiON4Zl"
      }
    },
    {
      "cell_type": "code",
      "source": [
        "df_educ['school_level'].value_counts()"
      ],
      "metadata": {
        "colab": {
          "base_uri": "https://localhost:8080/"
        },
        "id": "CYOWRJ9eKjvH",
        "outputId": "b83897a8-9dcb-4f1e-e41b-d3cb73e3c026"
      },
      "execution_count": 19,
      "outputs": [
        {
          "output_type": "execute_result",
          "data": {
            "text/plain": [
              "High            7227\n",
              "Other            631\n",
              "Not reported      35\n",
              "Elementary         2\n",
              "Name: school_level, dtype: int64"
            ]
          },
          "metadata": {},
          "execution_count": 19
        }
      ]
    },
    {
      "cell_type": "markdown",
      "source": [
        "Only high school standardized test scores are relevant, so let's only keep the high school data and drop the other categories."
      ],
      "metadata": {
        "id": "2J9DhCmlKy9w"
      }
    },
    {
      "cell_type": "code",
      "source": [
        "df_educ = df_educ.loc[df_educ['school_level'] == 'High']"
      ],
      "metadata": {
        "id": "J0cXQApIMEw0"
      },
      "execution_count": 20,
      "outputs": []
    },
    {
      "cell_type": "markdown",
      "source": [
        "## Identify missing values"
      ],
      "metadata": {
        "id": "aAaUY6N1rtoa"
      }
    },
    {
      "cell_type": "markdown",
      "source": [
        "Let's look at where all those NaNs fall in the merged dataframe."
      ],
      "metadata": {
        "id": "Ourt7CKWPFNS"
      }
    },
    {
      "cell_type": "code",
      "source": [
        "df_educ.isna().sum()"
      ],
      "metadata": {
        "colab": {
          "base_uri": "https://localhost:8080/"
        },
        "id": "Cg2TkyzcMTG8",
        "outputId": "d00165f2-1aa0-4283-a217-47f613642b1f"
      },
      "execution_count": 21,
      "outputs": [
        {
          "output_type": "execute_result",
          "data": {
            "text/plain": [
              "id                    0\n",
              "rate_unemployment    12\n",
              "percent_college      11\n",
              "percent_married      20\n",
              "median_income        16\n",
              "average_act           0\n",
              "percent_lunch        67\n",
              "year                  0\n",
              "state                 0\n",
              "zip_code              0\n",
              "school_type           0\n",
              "school_level          0\n",
              "dtype: int64"
            ]
          },
          "metadata": {},
          "execution_count": 21
        }
      ]
    },
    {
      "cell_type": "markdown",
      "source": [
        "Now let's put those missing values into context and see what percent each of the missing data takes up, out of the whole dataframe."
      ],
      "metadata": {
        "id": "zA31-atWPL21"
      }
    },
    {
      "cell_type": "code",
      "source": [
        "df_educ.isna().mean().round(4)*100"
      ],
      "metadata": {
        "colab": {
          "base_uri": "https://localhost:8080/"
        },
        "id": "ZgssWS2cQus6",
        "outputId": "47d5dcdb-2084-4c17-94cc-6d2a5f2b5b69"
      },
      "execution_count": 22,
      "outputs": [
        {
          "output_type": "execute_result",
          "data": {
            "text/plain": [
              "id                   0.00\n",
              "rate_unemployment    0.17\n",
              "percent_college      0.15\n",
              "percent_married      0.28\n",
              "median_income        0.22\n",
              "average_act          0.00\n",
              "percent_lunch        0.93\n",
              "year                 0.00\n",
              "state                0.00\n",
              "zip_code             0.00\n",
              "school_type          0.00\n",
              "school_level         0.00\n",
              "dtype: float64"
            ]
          },
          "metadata": {},
          "execution_count": 22
        }
      ]
    },
    {
      "cell_type": "markdown",
      "source": [
        "The missing values don't overpower the dataframe. We'll address the missing values after making a train test split."
      ],
      "metadata": {
        "id": "86B7mx7wPYoE"
      }
    },
    {
      "cell_type": "markdown",
      "source": [
        "## Train test split"
      ],
      "metadata": {
        "id": "TklEWrlhsEiQ"
      }
    },
    {
      "cell_type": "markdown",
      "source": [
        "Split the data into training and testing sets, in order to compare models predicting `average_act`."
      ],
      "metadata": {
        "id": "1cSY4UazAoIy"
      }
    },
    {
      "cell_type": "markdown",
      "source": [
        "Lets include all columns in the X var except for ID (since that's the key) and `average_act` since that is our Y"
      ],
      "metadata": {
        "id": "R5pqcohOPp00"
      }
    },
    {
      "cell_type": "code",
      "source": [
        "X = df_educ[df_educ.columns.difference(['id', 'average_act'])]"
      ],
      "metadata": {
        "id": "cBmZMtSZj4ln"
      },
      "execution_count": 23,
      "outputs": []
    },
    {
      "cell_type": "markdown",
      "source": [
        "set `average_act` to Y"
      ],
      "metadata": {
        "id": "c71by8LQPw9G"
      }
    },
    {
      "cell_type": "code",
      "source": [
        "Y = df_educ[['average_act']]"
      ],
      "metadata": {
        "id": "E-H1yFAhmnVW"
      },
      "execution_count": 24,
      "outputs": []
    },
    {
      "cell_type": "markdown",
      "source": [
        "Set up the train test split with our new variable designations. We are keeping 20% of the data in the test size."
      ],
      "metadata": {
        "id": "TB9gPCT9P0pS"
      }
    },
    {
      "cell_type": "code",
      "source": [
        "x_train, x_test, y_train, y_test = train_test_split(X, Y, test_size=.2)"
      ],
      "metadata": {
        "id": "qFtRWIZsg3_U"
      },
      "execution_count": 25,
      "outputs": []
    },
    {
      "cell_type": "code",
      "source": [
        "print(x_train.shape, x_test.shape)"
      ],
      "metadata": {
        "colab": {
          "base_uri": "https://localhost:8080/"
        },
        "id": "-jgHIQXBhA_Y",
        "outputId": "8ebb54d2-ed7c-414a-ca81-440abfa4492d"
      },
      "execution_count": 26,
      "outputs": [
        {
          "output_type": "stream",
          "name": "stdout",
          "text": [
            "(5781, 10) (1446, 10)\n"
          ]
        }
      ]
    },
    {
      "cell_type": "markdown",
      "source": [
        "10 variables with the selected data randomized are now included in the train test split."
      ],
      "metadata": {
        "id": "yITmmFtSP6U5"
      }
    },
    {
      "cell_type": "markdown",
      "source": [
        "## Data imputation"
      ],
      "metadata": {
        "id": "AM98iKFqk8wM"
      }
    },
    {
      "cell_type": "markdown",
      "source": [
        "Now we deal with replacing missing values."
      ],
      "metadata": {
        "id": "QxgXRuDkQM1A"
      }
    },
    {
      "cell_type": "markdown",
      "source": [
        "Iterative imputation used method to replace missing values in the columns corresponding to predictor variables in the analysis."
      ],
      "metadata": {
        "id": "q0E_t7Sgk-nr"
      }
    },
    {
      "cell_type": "code",
      "source": [
        "imputer = IterativeImputer()"
      ],
      "metadata": {
        "id": "s24RO3GahkLE"
      },
      "execution_count": 27,
      "outputs": []
    },
    {
      "cell_type": "markdown",
      "source": [
        "Use the imputer to run through the selected variables to create replacement values"
      ],
      "metadata": {
        "id": "k9R2du49Q2Th"
      }
    },
    {
      "cell_type": "code",
      "source": [
        "imputer.fit(x_train.loc[:,'median_income': 'rate_unemployment'])"
      ],
      "metadata": {
        "colab": {
          "base_uri": "https://localhost:8080/",
          "height": 75
        },
        "id": "sUTNORrPntjv",
        "outputId": "d72732b4-d5c3-45a9-c52b-2b4c041d7d33"
      },
      "execution_count": 35,
      "outputs": [
        {
          "output_type": "execute_result",
          "data": {
            "text/plain": [
              "IterativeImputer()"
            ],
            "text/html": [
              "<style>#sk-container-id-2 {color: black;background-color: white;}#sk-container-id-2 pre{padding: 0;}#sk-container-id-2 div.sk-toggleable {background-color: white;}#sk-container-id-2 label.sk-toggleable__label {cursor: pointer;display: block;width: 100%;margin-bottom: 0;padding: 0.3em;box-sizing: border-box;text-align: center;}#sk-container-id-2 label.sk-toggleable__label-arrow:before {content: \"▸\";float: left;margin-right: 0.25em;color: #696969;}#sk-container-id-2 label.sk-toggleable__label-arrow:hover:before {color: black;}#sk-container-id-2 div.sk-estimator:hover label.sk-toggleable__label-arrow:before {color: black;}#sk-container-id-2 div.sk-toggleable__content {max-height: 0;max-width: 0;overflow: hidden;text-align: left;background-color: #f0f8ff;}#sk-container-id-2 div.sk-toggleable__content pre {margin: 0.2em;color: black;border-radius: 0.25em;background-color: #f0f8ff;}#sk-container-id-2 input.sk-toggleable__control:checked~div.sk-toggleable__content {max-height: 200px;max-width: 100%;overflow: auto;}#sk-container-id-2 input.sk-toggleable__control:checked~label.sk-toggleable__label-arrow:before {content: \"▾\";}#sk-container-id-2 div.sk-estimator input.sk-toggleable__control:checked~label.sk-toggleable__label {background-color: #d4ebff;}#sk-container-id-2 div.sk-label input.sk-toggleable__control:checked~label.sk-toggleable__label {background-color: #d4ebff;}#sk-container-id-2 input.sk-hidden--visually {border: 0;clip: rect(1px 1px 1px 1px);clip: rect(1px, 1px, 1px, 1px);height: 1px;margin: -1px;overflow: hidden;padding: 0;position: absolute;width: 1px;}#sk-container-id-2 div.sk-estimator {font-family: monospace;background-color: #f0f8ff;border: 1px dotted black;border-radius: 0.25em;box-sizing: border-box;margin-bottom: 0.5em;}#sk-container-id-2 div.sk-estimator:hover {background-color: #d4ebff;}#sk-container-id-2 div.sk-parallel-item::after {content: \"\";width: 100%;border-bottom: 1px solid gray;flex-grow: 1;}#sk-container-id-2 div.sk-label:hover label.sk-toggleable__label {background-color: #d4ebff;}#sk-container-id-2 div.sk-serial::before {content: \"\";position: absolute;border-left: 1px solid gray;box-sizing: border-box;top: 0;bottom: 0;left: 50%;z-index: 0;}#sk-container-id-2 div.sk-serial {display: flex;flex-direction: column;align-items: center;background-color: white;padding-right: 0.2em;padding-left: 0.2em;position: relative;}#sk-container-id-2 div.sk-item {position: relative;z-index: 1;}#sk-container-id-2 div.sk-parallel {display: flex;align-items: stretch;justify-content: center;background-color: white;position: relative;}#sk-container-id-2 div.sk-item::before, #sk-container-id-2 div.sk-parallel-item::before {content: \"\";position: absolute;border-left: 1px solid gray;box-sizing: border-box;top: 0;bottom: 0;left: 50%;z-index: -1;}#sk-container-id-2 div.sk-parallel-item {display: flex;flex-direction: column;z-index: 1;position: relative;background-color: white;}#sk-container-id-2 div.sk-parallel-item:first-child::after {align-self: flex-end;width: 50%;}#sk-container-id-2 div.sk-parallel-item:last-child::after {align-self: flex-start;width: 50%;}#sk-container-id-2 div.sk-parallel-item:only-child::after {width: 0;}#sk-container-id-2 div.sk-dashed-wrapped {border: 1px dashed gray;margin: 0 0.4em 0.5em 0.4em;box-sizing: border-box;padding-bottom: 0.4em;background-color: white;}#sk-container-id-2 div.sk-label label {font-family: monospace;font-weight: bold;display: inline-block;line-height: 1.2em;}#sk-container-id-2 div.sk-label-container {text-align: center;}#sk-container-id-2 div.sk-container {/* jupyter's `normalize.less` sets `[hidden] { display: none; }` but bootstrap.min.css set `[hidden] { display: none !important; }` so we also need the `!important` here to be able to override the default hidden behavior on the sphinx rendered scikit-learn.org. See: https://github.com/scikit-learn/scikit-learn/issues/21755 */display: inline-block !important;position: relative;}#sk-container-id-2 div.sk-text-repr-fallback {display: none;}</style><div id=\"sk-container-id-2\" class=\"sk-top-container\"><div class=\"sk-text-repr-fallback\"><pre>IterativeImputer()</pre><b>In a Jupyter environment, please rerun this cell to show the HTML representation or trust the notebook. <br />On GitHub, the HTML representation is unable to render, please try loading this page with nbviewer.org.</b></div><div class=\"sk-container\" hidden><div class=\"sk-item\"><div class=\"sk-estimator sk-toggleable\"><input class=\"sk-toggleable__control sk-hidden--visually\" id=\"sk-estimator-id-2\" type=\"checkbox\" checked><label for=\"sk-estimator-id-2\" class=\"sk-toggleable__label sk-toggleable__label-arrow\">IterativeImputer</label><div class=\"sk-toggleable__content\"><pre>IterativeImputer()</pre></div></div></div></div></div>"
            ]
          },
          "metadata": {},
          "execution_count": 35
        }
      ]
    },
    {
      "cell_type": "markdown",
      "source": [
        "replace the x_train with the new replacement values."
      ],
      "metadata": {
        "id": "rHXRqItvQXr7"
      }
    },
    {
      "cell_type": "code",
      "source": [
        "x_train.loc[:,'median_income': 'rate_unemployment'] = imputer.transform(x_train.loc[:,'median_income': 'rate_unemployment'])"
      ],
      "metadata": {
        "id": "u8joclEroTYp"
      },
      "execution_count": 36,
      "outputs": []
    },
    {
      "cell_type": "markdown",
      "source": [
        "Check if we replaced all the missing values."
      ],
      "metadata": {
        "id": "XzdUVLISQT7p"
      }
    },
    {
      "cell_type": "code",
      "source": [
        "x_train.isna().sum()"
      ],
      "metadata": {
        "colab": {
          "base_uri": "https://localhost:8080/"
        },
        "id": "BV14lrJdoikC",
        "outputId": "726ded0d-9fbd-43e3-edb8-ca63ab1162b5"
      },
      "execution_count": 37,
      "outputs": [
        {
          "output_type": "execute_result",
          "data": {
            "text/plain": [
              "median_income        0\n",
              "percent_college      0\n",
              "percent_lunch        0\n",
              "percent_married      0\n",
              "rate_unemployment    0\n",
              "school_level         0\n",
              "school_type          0\n",
              "state                0\n",
              "year                 0\n",
              "zip_code             0\n",
              "dtype: int64"
            ]
          },
          "metadata": {},
          "execution_count": 37
        }
      ]
    },
    {
      "cell_type": "markdown",
      "source": [
        "No more missing values!"
      ],
      "metadata": {
        "id": "-C-vJw8rQR55"
      }
    },
    {
      "cell_type": "markdown",
      "source": [
        "Join the training dataframes (x_train and y_train)"
      ],
      "metadata": {
        "id": "rhzcbgU1tjGI"
      }
    },
    {
      "cell_type": "code",
      "source": [
        "df_train = x_train.join(y_train)"
      ],
      "metadata": {
        "id": "qZuhi5sdtcu7"
      },
      "execution_count": 31,
      "outputs": []
    },
    {
      "cell_type": "markdown",
      "source": [
        "Here's the merged training dataframe."
      ],
      "metadata": {
        "id": "W0E7PvOKRGkl"
      }
    },
    {
      "cell_type": "code",
      "source": [
        "df_train.describe()"
      ],
      "metadata": {
        "colab": {
          "base_uri": "https://localhost:8080/",
          "height": 300
        },
        "id": "w_mB8eBStqDR",
        "outputId": "0d40dace-2930-40a0-f4b5-48189b328bb7"
      },
      "execution_count": 32,
      "outputs": [
        {
          "output_type": "execute_result",
          "data": {
            "text/plain": [
              "       median_income  percent_college  percent_lunch  percent_married  \\\n",
              "count    5781.000000      5781.000000    5781.000000      5781.000000   \n",
              "mean    52594.370385         0.573342       0.413154         0.640041   \n",
              "std     24262.782712         0.165311       0.231769         0.192452   \n",
              "min      2162.738939         0.091493       0.000266         0.000000   \n",
              "25%     37087.000000         0.455313       0.236207         0.533460   \n",
              "50%     47240.000000         0.559432       0.374684         0.671889   \n",
              "75%     62106.000000         0.681247       0.557154         0.780147   \n",
              "max    226181.000000         1.000000       0.998729         1.000000   \n",
              "\n",
              "       rate_unemployment  average_act  \n",
              "count        5781.000000  5781.000000  \n",
              "mean            0.096703    20.301560  \n",
              "std             0.056709     2.499595  \n",
              "min             0.000000    12.362637  \n",
              "25%             0.058222    18.800000  \n",
              "50%             0.084673    20.500000  \n",
              "75%             0.120930    22.000000  \n",
              "max             0.590278    32.362637  "
            ],
            "text/html": [
              "\n",
              "  <div id=\"df-7c6f1aae-80b3-45aa-ab8f-a822c4898ff5\">\n",
              "    <div class=\"colab-df-container\">\n",
              "      <div>\n",
              "<style scoped>\n",
              "    .dataframe tbody tr th:only-of-type {\n",
              "        vertical-align: middle;\n",
              "    }\n",
              "\n",
              "    .dataframe tbody tr th {\n",
              "        vertical-align: top;\n",
              "    }\n",
              "\n",
              "    .dataframe thead th {\n",
              "        text-align: right;\n",
              "    }\n",
              "</style>\n",
              "<table border=\"1\" class=\"dataframe\">\n",
              "  <thead>\n",
              "    <tr style=\"text-align: right;\">\n",
              "      <th></th>\n",
              "      <th>median_income</th>\n",
              "      <th>percent_college</th>\n",
              "      <th>percent_lunch</th>\n",
              "      <th>percent_married</th>\n",
              "      <th>rate_unemployment</th>\n",
              "      <th>average_act</th>\n",
              "    </tr>\n",
              "  </thead>\n",
              "  <tbody>\n",
              "    <tr>\n",
              "      <th>count</th>\n",
              "      <td>5781.000000</td>\n",
              "      <td>5781.000000</td>\n",
              "      <td>5781.000000</td>\n",
              "      <td>5781.000000</td>\n",
              "      <td>5781.000000</td>\n",
              "      <td>5781.000000</td>\n",
              "    </tr>\n",
              "    <tr>\n",
              "      <th>mean</th>\n",
              "      <td>52594.370385</td>\n",
              "      <td>0.573342</td>\n",
              "      <td>0.413154</td>\n",
              "      <td>0.640041</td>\n",
              "      <td>0.096703</td>\n",
              "      <td>20.301560</td>\n",
              "    </tr>\n",
              "    <tr>\n",
              "      <th>std</th>\n",
              "      <td>24262.782712</td>\n",
              "      <td>0.165311</td>\n",
              "      <td>0.231769</td>\n",
              "      <td>0.192452</td>\n",
              "      <td>0.056709</td>\n",
              "      <td>2.499595</td>\n",
              "    </tr>\n",
              "    <tr>\n",
              "      <th>min</th>\n",
              "      <td>2162.738939</td>\n",
              "      <td>0.091493</td>\n",
              "      <td>0.000266</td>\n",
              "      <td>0.000000</td>\n",
              "      <td>0.000000</td>\n",
              "      <td>12.362637</td>\n",
              "    </tr>\n",
              "    <tr>\n",
              "      <th>25%</th>\n",
              "      <td>37087.000000</td>\n",
              "      <td>0.455313</td>\n",
              "      <td>0.236207</td>\n",
              "      <td>0.533460</td>\n",
              "      <td>0.058222</td>\n",
              "      <td>18.800000</td>\n",
              "    </tr>\n",
              "    <tr>\n",
              "      <th>50%</th>\n",
              "      <td>47240.000000</td>\n",
              "      <td>0.559432</td>\n",
              "      <td>0.374684</td>\n",
              "      <td>0.671889</td>\n",
              "      <td>0.084673</td>\n",
              "      <td>20.500000</td>\n",
              "    </tr>\n",
              "    <tr>\n",
              "      <th>75%</th>\n",
              "      <td>62106.000000</td>\n",
              "      <td>0.681247</td>\n",
              "      <td>0.557154</td>\n",
              "      <td>0.780147</td>\n",
              "      <td>0.120930</td>\n",
              "      <td>22.000000</td>\n",
              "    </tr>\n",
              "    <tr>\n",
              "      <th>max</th>\n",
              "      <td>226181.000000</td>\n",
              "      <td>1.000000</td>\n",
              "      <td>0.998729</td>\n",
              "      <td>1.000000</td>\n",
              "      <td>0.590278</td>\n",
              "      <td>32.362637</td>\n",
              "    </tr>\n",
              "  </tbody>\n",
              "</table>\n",
              "</div>\n",
              "      <button class=\"colab-df-convert\" onclick=\"convertToInteractive('df-7c6f1aae-80b3-45aa-ab8f-a822c4898ff5')\"\n",
              "              title=\"Convert this dataframe to an interactive table.\"\n",
              "              style=\"display:none;\">\n",
              "        \n",
              "  <svg xmlns=\"http://www.w3.org/2000/svg\" height=\"24px\"viewBox=\"0 0 24 24\"\n",
              "       width=\"24px\">\n",
              "    <path d=\"M0 0h24v24H0V0z\" fill=\"none\"/>\n",
              "    <path d=\"M18.56 5.44l.94 2.06.94-2.06 2.06-.94-2.06-.94-.94-2.06-.94 2.06-2.06.94zm-11 1L8.5 8.5l.94-2.06 2.06-.94-2.06-.94L8.5 2.5l-.94 2.06-2.06.94zm10 10l.94 2.06.94-2.06 2.06-.94-2.06-.94-.94-2.06-.94 2.06-2.06.94z\"/><path d=\"M17.41 7.96l-1.37-1.37c-.4-.4-.92-.59-1.43-.59-.52 0-1.04.2-1.43.59L10.3 9.45l-7.72 7.72c-.78.78-.78 2.05 0 2.83L4 21.41c.39.39.9.59 1.41.59.51 0 1.02-.2 1.41-.59l7.78-7.78 2.81-2.81c.8-.78.8-2.07 0-2.86zM5.41 20L4 18.59l7.72-7.72 1.47 1.35L5.41 20z\"/>\n",
              "  </svg>\n",
              "      </button>\n",
              "      \n",
              "  <style>\n",
              "    .colab-df-container {\n",
              "      display:flex;\n",
              "      flex-wrap:wrap;\n",
              "      gap: 12px;\n",
              "    }\n",
              "\n",
              "    .colab-df-convert {\n",
              "      background-color: #E8F0FE;\n",
              "      border: none;\n",
              "      border-radius: 50%;\n",
              "      cursor: pointer;\n",
              "      display: none;\n",
              "      fill: #1967D2;\n",
              "      height: 32px;\n",
              "      padding: 0 0 0 0;\n",
              "      width: 32px;\n",
              "    }\n",
              "\n",
              "    .colab-df-convert:hover {\n",
              "      background-color: #E2EBFA;\n",
              "      box-shadow: 0px 1px 2px rgba(60, 64, 67, 0.3), 0px 1px 3px 1px rgba(60, 64, 67, 0.15);\n",
              "      fill: #174EA6;\n",
              "    }\n",
              "\n",
              "    [theme=dark] .colab-df-convert {\n",
              "      background-color: #3B4455;\n",
              "      fill: #D2E3FC;\n",
              "    }\n",
              "\n",
              "    [theme=dark] .colab-df-convert:hover {\n",
              "      background-color: #434B5C;\n",
              "      box-shadow: 0px 1px 3px 1px rgba(0, 0, 0, 0.15);\n",
              "      filter: drop-shadow(0px 1px 2px rgba(0, 0, 0, 0.3));\n",
              "      fill: #FFFFFF;\n",
              "    }\n",
              "  </style>\n",
              "\n",
              "      <script>\n",
              "        const buttonEl =\n",
              "          document.querySelector('#df-7c6f1aae-80b3-45aa-ab8f-a822c4898ff5 button.colab-df-convert');\n",
              "        buttonEl.style.display =\n",
              "          google.colab.kernel.accessAllowed ? 'block' : 'none';\n",
              "\n",
              "        async function convertToInteractive(key) {\n",
              "          const element = document.querySelector('#df-7c6f1aae-80b3-45aa-ab8f-a822c4898ff5');\n",
              "          const dataTable =\n",
              "            await google.colab.kernel.invokeFunction('convertToInteractive',\n",
              "                                                     [key], {});\n",
              "          if (!dataTable) return;\n",
              "\n",
              "          const docLinkHtml = 'Like what you see? Visit the ' +\n",
              "            '<a target=\"_blank\" href=https://colab.research.google.com/notebooks/data_table.ipynb>data table notebook</a>'\n",
              "            + ' to learn more about interactive tables.';\n",
              "          element.innerHTML = '';\n",
              "          dataTable['output_type'] = 'display_data';\n",
              "          await google.colab.output.renderOutput(dataTable, element);\n",
              "          const docLink = document.createElement('div');\n",
              "          docLink.innerHTML = docLinkHtml;\n",
              "          element.appendChild(docLink);\n",
              "        }\n",
              "      </script>\n",
              "    </div>\n",
              "  </div>\n",
              "  "
            ]
          },
          "metadata": {},
          "execution_count": 32
        }
      ]
    },
    {
      "cell_type": "code",
      "source": [
        "df_train.head()"
      ],
      "metadata": {
        "colab": {
          "base_uri": "https://localhost:8080/",
          "height": 250
        },
        "id": "CneKHiY8lmW6",
        "outputId": "664b36e7-8764-4ed0-873f-97155fc82f7f"
      },
      "execution_count": 33,
      "outputs": [
        {
          "output_type": "execute_result",
          "data": {
            "text/plain": [
              "      median_income  percent_college  percent_lunch  percent_married  \\\n",
              "1377        31177.0         0.445373       0.631848         0.276390   \n",
              "4649        50754.0         0.566810       0.347898         0.405907   \n",
              "7722        46030.0         0.547182       0.110305         0.662667   \n",
              "397         32104.0         0.370311       0.476190         0.547009   \n",
              "3282        63377.0         0.626765       0.182174         0.594709   \n",
              "\n",
              "      rate_unemployment school_level     school_type state       year  \\\n",
              "1377           0.190445         High  Regular School    IL  2016-2017   \n",
              "4649           0.138474         High  Regular School    NC  2016-2017   \n",
              "7722           0.061224         High  Regular School    WI  2016-2017   \n",
              "397            0.133428         High  Regular School    FL  2016-2017   \n",
              "3282           0.034224         High  Regular School    MO  2016-2017   \n",
              "\n",
              "     zip_code  average_act  \n",
              "1377    62703    18.000000  \n",
              "4649    27529    20.689866  \n",
              "7722    54136    22.800000  \n",
              "397     33880    17.881563  \n",
              "3282    64029    21.800000  "
            ],
            "text/html": [
              "\n",
              "  <div id=\"df-892be96f-23f5-46d3-8913-421c93f8c07c\">\n",
              "    <div class=\"colab-df-container\">\n",
              "      <div>\n",
              "<style scoped>\n",
              "    .dataframe tbody tr th:only-of-type {\n",
              "        vertical-align: middle;\n",
              "    }\n",
              "\n",
              "    .dataframe tbody tr th {\n",
              "        vertical-align: top;\n",
              "    }\n",
              "\n",
              "    .dataframe thead th {\n",
              "        text-align: right;\n",
              "    }\n",
              "</style>\n",
              "<table border=\"1\" class=\"dataframe\">\n",
              "  <thead>\n",
              "    <tr style=\"text-align: right;\">\n",
              "      <th></th>\n",
              "      <th>median_income</th>\n",
              "      <th>percent_college</th>\n",
              "      <th>percent_lunch</th>\n",
              "      <th>percent_married</th>\n",
              "      <th>rate_unemployment</th>\n",
              "      <th>school_level</th>\n",
              "      <th>school_type</th>\n",
              "      <th>state</th>\n",
              "      <th>year</th>\n",
              "      <th>zip_code</th>\n",
              "      <th>average_act</th>\n",
              "    </tr>\n",
              "  </thead>\n",
              "  <tbody>\n",
              "    <tr>\n",
              "      <th>1377</th>\n",
              "      <td>31177.0</td>\n",
              "      <td>0.445373</td>\n",
              "      <td>0.631848</td>\n",
              "      <td>0.276390</td>\n",
              "      <td>0.190445</td>\n",
              "      <td>High</td>\n",
              "      <td>Regular School</td>\n",
              "      <td>IL</td>\n",
              "      <td>2016-2017</td>\n",
              "      <td>62703</td>\n",
              "      <td>18.000000</td>\n",
              "    </tr>\n",
              "    <tr>\n",
              "      <th>4649</th>\n",
              "      <td>50754.0</td>\n",
              "      <td>0.566810</td>\n",
              "      <td>0.347898</td>\n",
              "      <td>0.405907</td>\n",
              "      <td>0.138474</td>\n",
              "      <td>High</td>\n",
              "      <td>Regular School</td>\n",
              "      <td>NC</td>\n",
              "      <td>2016-2017</td>\n",
              "      <td>27529</td>\n",
              "      <td>20.689866</td>\n",
              "    </tr>\n",
              "    <tr>\n",
              "      <th>7722</th>\n",
              "      <td>46030.0</td>\n",
              "      <td>0.547182</td>\n",
              "      <td>0.110305</td>\n",
              "      <td>0.662667</td>\n",
              "      <td>0.061224</td>\n",
              "      <td>High</td>\n",
              "      <td>Regular School</td>\n",
              "      <td>WI</td>\n",
              "      <td>2016-2017</td>\n",
              "      <td>54136</td>\n",
              "      <td>22.800000</td>\n",
              "    </tr>\n",
              "    <tr>\n",
              "      <th>397</th>\n",
              "      <td>32104.0</td>\n",
              "      <td>0.370311</td>\n",
              "      <td>0.476190</td>\n",
              "      <td>0.547009</td>\n",
              "      <td>0.133428</td>\n",
              "      <td>High</td>\n",
              "      <td>Regular School</td>\n",
              "      <td>FL</td>\n",
              "      <td>2016-2017</td>\n",
              "      <td>33880</td>\n",
              "      <td>17.881563</td>\n",
              "    </tr>\n",
              "    <tr>\n",
              "      <th>3282</th>\n",
              "      <td>63377.0</td>\n",
              "      <td>0.626765</td>\n",
              "      <td>0.182174</td>\n",
              "      <td>0.594709</td>\n",
              "      <td>0.034224</td>\n",
              "      <td>High</td>\n",
              "      <td>Regular School</td>\n",
              "      <td>MO</td>\n",
              "      <td>2016-2017</td>\n",
              "      <td>64029</td>\n",
              "      <td>21.800000</td>\n",
              "    </tr>\n",
              "  </tbody>\n",
              "</table>\n",
              "</div>\n",
              "      <button class=\"colab-df-convert\" onclick=\"convertToInteractive('df-892be96f-23f5-46d3-8913-421c93f8c07c')\"\n",
              "              title=\"Convert this dataframe to an interactive table.\"\n",
              "              style=\"display:none;\">\n",
              "        \n",
              "  <svg xmlns=\"http://www.w3.org/2000/svg\" height=\"24px\"viewBox=\"0 0 24 24\"\n",
              "       width=\"24px\">\n",
              "    <path d=\"M0 0h24v24H0V0z\" fill=\"none\"/>\n",
              "    <path d=\"M18.56 5.44l.94 2.06.94-2.06 2.06-.94-2.06-.94-.94-2.06-.94 2.06-2.06.94zm-11 1L8.5 8.5l.94-2.06 2.06-.94-2.06-.94L8.5 2.5l-.94 2.06-2.06.94zm10 10l.94 2.06.94-2.06 2.06-.94-2.06-.94-.94-2.06-.94 2.06-2.06.94z\"/><path d=\"M17.41 7.96l-1.37-1.37c-.4-.4-.92-.59-1.43-.59-.52 0-1.04.2-1.43.59L10.3 9.45l-7.72 7.72c-.78.78-.78 2.05 0 2.83L4 21.41c.39.39.9.59 1.41.59.51 0 1.02-.2 1.41-.59l7.78-7.78 2.81-2.81c.8-.78.8-2.07 0-2.86zM5.41 20L4 18.59l7.72-7.72 1.47 1.35L5.41 20z\"/>\n",
              "  </svg>\n",
              "      </button>\n",
              "      \n",
              "  <style>\n",
              "    .colab-df-container {\n",
              "      display:flex;\n",
              "      flex-wrap:wrap;\n",
              "      gap: 12px;\n",
              "    }\n",
              "\n",
              "    .colab-df-convert {\n",
              "      background-color: #E8F0FE;\n",
              "      border: none;\n",
              "      border-radius: 50%;\n",
              "      cursor: pointer;\n",
              "      display: none;\n",
              "      fill: #1967D2;\n",
              "      height: 32px;\n",
              "      padding: 0 0 0 0;\n",
              "      width: 32px;\n",
              "    }\n",
              "\n",
              "    .colab-df-convert:hover {\n",
              "      background-color: #E2EBFA;\n",
              "      box-shadow: 0px 1px 2px rgba(60, 64, 67, 0.3), 0px 1px 3px 1px rgba(60, 64, 67, 0.15);\n",
              "      fill: #174EA6;\n",
              "    }\n",
              "\n",
              "    [theme=dark] .colab-df-convert {\n",
              "      background-color: #3B4455;\n",
              "      fill: #D2E3FC;\n",
              "    }\n",
              "\n",
              "    [theme=dark] .colab-df-convert:hover {\n",
              "      background-color: #434B5C;\n",
              "      box-shadow: 0px 1px 3px 1px rgba(0, 0, 0, 0.15);\n",
              "      filter: drop-shadow(0px 1px 2px rgba(0, 0, 0, 0.3));\n",
              "      fill: #FFFFFF;\n",
              "    }\n",
              "  </style>\n",
              "\n",
              "      <script>\n",
              "        const buttonEl =\n",
              "          document.querySelector('#df-892be96f-23f5-46d3-8913-421c93f8c07c button.colab-df-convert');\n",
              "        buttonEl.style.display =\n",
              "          google.colab.kernel.accessAllowed ? 'block' : 'none';\n",
              "\n",
              "        async function convertToInteractive(key) {\n",
              "          const element = document.querySelector('#df-892be96f-23f5-46d3-8913-421c93f8c07c');\n",
              "          const dataTable =\n",
              "            await google.colab.kernel.invokeFunction('convertToInteractive',\n",
              "                                                     [key], {});\n",
              "          if (!dataTable) return;\n",
              "\n",
              "          const docLinkHtml = 'Like what you see? Visit the ' +\n",
              "            '<a target=\"_blank\" href=https://colab.research.google.com/notebooks/data_table.ipynb>data table notebook</a>'\n",
              "            + ' to learn more about interactive tables.';\n",
              "          element.innerHTML = '';\n",
              "          dataTable['output_type'] = 'display_data';\n",
              "          await google.colab.output.renderOutput(dataTable, element);\n",
              "          const docLink = document.createElement('div');\n",
              "          docLink.innerHTML = docLinkHtml;\n",
              "          element.appendChild(docLink);\n",
              "        }\n",
              "      </script>\n",
              "    </div>\n",
              "  </div>\n",
              "  "
            ]
          },
          "metadata": {},
          "execution_count": 33
        }
      ]
    },
    {
      "cell_type": "markdown",
      "source": [
        "The following code was an attempt at making this a tidy format..."
      ],
      "metadata": {
        "id": "rSA3oR_Uowe1"
      }
    },
    {
      "cell_type": "code",
      "source": [
        "df_train_tidy = pd.melt(df_train, var_name = 'characteristic or score', value_vars = ['median_income', 'percent_college', 'percent_lunch', 'percent_married', 'rate_unemployment', 'average_act'])\n",
        "\n",
        "df_train_tidy"
      ],
      "metadata": {
        "colab": {
          "base_uri": "https://localhost:8080/",
          "height": 424
        },
        "id": "10ARbviJl5_j",
        "outputId": "306ae3b1-a04c-4596-960b-48a393c4d51a"
      },
      "execution_count": 49,
      "outputs": [
        {
          "output_type": "execute_result",
          "data": {
            "text/plain": [
              "      characteristic or score         value\n",
              "0               median_income  31177.000000\n",
              "1               median_income  50754.000000\n",
              "2               median_income  46030.000000\n",
              "3               median_income  32104.000000\n",
              "4               median_income  63377.000000\n",
              "...                       ...           ...\n",
              "34681             average_act     21.910867\n",
              "34682             average_act     18.150183\n",
              "34683             average_act     22.203907\n",
              "34684             average_act     20.500000\n",
              "34685             average_act     19.000000\n",
              "\n",
              "[34686 rows x 2 columns]"
            ],
            "text/html": [
              "\n",
              "  <div id=\"df-a132beb5-6bd7-416c-9180-3a99616a4a2d\">\n",
              "    <div class=\"colab-df-container\">\n",
              "      <div>\n",
              "<style scoped>\n",
              "    .dataframe tbody tr th:only-of-type {\n",
              "        vertical-align: middle;\n",
              "    }\n",
              "\n",
              "    .dataframe tbody tr th {\n",
              "        vertical-align: top;\n",
              "    }\n",
              "\n",
              "    .dataframe thead th {\n",
              "        text-align: right;\n",
              "    }\n",
              "</style>\n",
              "<table border=\"1\" class=\"dataframe\">\n",
              "  <thead>\n",
              "    <tr style=\"text-align: right;\">\n",
              "      <th></th>\n",
              "      <th>characteristic or score</th>\n",
              "      <th>value</th>\n",
              "    </tr>\n",
              "  </thead>\n",
              "  <tbody>\n",
              "    <tr>\n",
              "      <th>0</th>\n",
              "      <td>median_income</td>\n",
              "      <td>31177.000000</td>\n",
              "    </tr>\n",
              "    <tr>\n",
              "      <th>1</th>\n",
              "      <td>median_income</td>\n",
              "      <td>50754.000000</td>\n",
              "    </tr>\n",
              "    <tr>\n",
              "      <th>2</th>\n",
              "      <td>median_income</td>\n",
              "      <td>46030.000000</td>\n",
              "    </tr>\n",
              "    <tr>\n",
              "      <th>3</th>\n",
              "      <td>median_income</td>\n",
              "      <td>32104.000000</td>\n",
              "    </tr>\n",
              "    <tr>\n",
              "      <th>4</th>\n",
              "      <td>median_income</td>\n",
              "      <td>63377.000000</td>\n",
              "    </tr>\n",
              "    <tr>\n",
              "      <th>...</th>\n",
              "      <td>...</td>\n",
              "      <td>...</td>\n",
              "    </tr>\n",
              "    <tr>\n",
              "      <th>34681</th>\n",
              "      <td>average_act</td>\n",
              "      <td>21.910867</td>\n",
              "    </tr>\n",
              "    <tr>\n",
              "      <th>34682</th>\n",
              "      <td>average_act</td>\n",
              "      <td>18.150183</td>\n",
              "    </tr>\n",
              "    <tr>\n",
              "      <th>34683</th>\n",
              "      <td>average_act</td>\n",
              "      <td>22.203907</td>\n",
              "    </tr>\n",
              "    <tr>\n",
              "      <th>34684</th>\n",
              "      <td>average_act</td>\n",
              "      <td>20.500000</td>\n",
              "    </tr>\n",
              "    <tr>\n",
              "      <th>34685</th>\n",
              "      <td>average_act</td>\n",
              "      <td>19.000000</td>\n",
              "    </tr>\n",
              "  </tbody>\n",
              "</table>\n",
              "<p>34686 rows × 2 columns</p>\n",
              "</div>\n",
              "      <button class=\"colab-df-convert\" onclick=\"convertToInteractive('df-a132beb5-6bd7-416c-9180-3a99616a4a2d')\"\n",
              "              title=\"Convert this dataframe to an interactive table.\"\n",
              "              style=\"display:none;\">\n",
              "        \n",
              "  <svg xmlns=\"http://www.w3.org/2000/svg\" height=\"24px\"viewBox=\"0 0 24 24\"\n",
              "       width=\"24px\">\n",
              "    <path d=\"M0 0h24v24H0V0z\" fill=\"none\"/>\n",
              "    <path d=\"M18.56 5.44l.94 2.06.94-2.06 2.06-.94-2.06-.94-.94-2.06-.94 2.06-2.06.94zm-11 1L8.5 8.5l.94-2.06 2.06-.94-2.06-.94L8.5 2.5l-.94 2.06-2.06.94zm10 10l.94 2.06.94-2.06 2.06-.94-2.06-.94-.94-2.06-.94 2.06-2.06.94z\"/><path d=\"M17.41 7.96l-1.37-1.37c-.4-.4-.92-.59-1.43-.59-.52 0-1.04.2-1.43.59L10.3 9.45l-7.72 7.72c-.78.78-.78 2.05 0 2.83L4 21.41c.39.39.9.59 1.41.59.51 0 1.02-.2 1.41-.59l7.78-7.78 2.81-2.81c.8-.78.8-2.07 0-2.86zM5.41 20L4 18.59l7.72-7.72 1.47 1.35L5.41 20z\"/>\n",
              "  </svg>\n",
              "      </button>\n",
              "      \n",
              "  <style>\n",
              "    .colab-df-container {\n",
              "      display:flex;\n",
              "      flex-wrap:wrap;\n",
              "      gap: 12px;\n",
              "    }\n",
              "\n",
              "    .colab-df-convert {\n",
              "      background-color: #E8F0FE;\n",
              "      border: none;\n",
              "      border-radius: 50%;\n",
              "      cursor: pointer;\n",
              "      display: none;\n",
              "      fill: #1967D2;\n",
              "      height: 32px;\n",
              "      padding: 0 0 0 0;\n",
              "      width: 32px;\n",
              "    }\n",
              "\n",
              "    .colab-df-convert:hover {\n",
              "      background-color: #E2EBFA;\n",
              "      box-shadow: 0px 1px 2px rgba(60, 64, 67, 0.3), 0px 1px 3px 1px rgba(60, 64, 67, 0.15);\n",
              "      fill: #174EA6;\n",
              "    }\n",
              "\n",
              "    [theme=dark] .colab-df-convert {\n",
              "      background-color: #3B4455;\n",
              "      fill: #D2E3FC;\n",
              "    }\n",
              "\n",
              "    [theme=dark] .colab-df-convert:hover {\n",
              "      background-color: #434B5C;\n",
              "      box-shadow: 0px 1px 3px 1px rgba(0, 0, 0, 0.15);\n",
              "      filter: drop-shadow(0px 1px 2px rgba(0, 0, 0, 0.3));\n",
              "      fill: #FFFFFF;\n",
              "    }\n",
              "  </style>\n",
              "\n",
              "      <script>\n",
              "        const buttonEl =\n",
              "          document.querySelector('#df-a132beb5-6bd7-416c-9180-3a99616a4a2d button.colab-df-convert');\n",
              "        buttonEl.style.display =\n",
              "          google.colab.kernel.accessAllowed ? 'block' : 'none';\n",
              "\n",
              "        async function convertToInteractive(key) {\n",
              "          const element = document.querySelector('#df-a132beb5-6bd7-416c-9180-3a99616a4a2d');\n",
              "          const dataTable =\n",
              "            await google.colab.kernel.invokeFunction('convertToInteractive',\n",
              "                                                     [key], {});\n",
              "          if (!dataTable) return;\n",
              "\n",
              "          const docLinkHtml = 'Like what you see? Visit the ' +\n",
              "            '<a target=\"_blank\" href=https://colab.research.google.com/notebooks/data_table.ipynb>data table notebook</a>'\n",
              "            + ' to learn more about interactive tables.';\n",
              "          element.innerHTML = '';\n",
              "          dataTable['output_type'] = 'display_data';\n",
              "          await google.colab.output.renderOutput(dataTable, element);\n",
              "          const docLink = document.createElement('div');\n",
              "          docLink.innerHTML = docLinkHtml;\n",
              "          element.appendChild(docLink);\n",
              "        }\n",
              "      </script>\n",
              "    </div>\n",
              "  </div>\n",
              "  "
            ]
          },
          "metadata": {},
          "execution_count": 49
        }
      ]
    },
    {
      "cell_type": "markdown",
      "source": [
        "## Create relevant derived variables as new columns"
      ],
      "metadata": {
        "id": "2IZlt3PksMUK"
      }
    },
    {
      "cell_type": "markdown",
      "source": [
        "No derived variables (for now)"
      ],
      "metadata": {
        "id": "hxBtraVUkDxr"
      }
    },
    {
      "cell_type": "markdown",
      "source": [
        "## Export the clean .csv files"
      ],
      "metadata": {
        "id": "oKGHtonZsZCM"
      }
    },
    {
      "cell_type": "markdown",
      "source": [
        "Export files with the training and testing data"
      ],
      "metadata": {
        "id": "OESlEp8tk2uD"
      }
    },
    {
      "cell_type": "code",
      "source": [
        "from google.colab import files\n",
        "\n",
        "df_train.to_csv('clean_education_inequality.csv', encoding = 'utf-8-sig', index=False) \n",
        "\n",
        "files.download('clean_education_inequality.csv')"
      ],
      "metadata": {
        "id": "lp0iLYOqKtbQ",
        "colab": {
          "base_uri": "https://localhost:8080/",
          "height": 17
        },
        "outputId": "6b53cdd4-60ea-4f32-c2a9-534207221eb4"
      },
      "execution_count": 85,
      "outputs": [
        {
          "output_type": "display_data",
          "data": {
            "text/plain": [
              "<IPython.core.display.Javascript object>"
            ],
            "application/javascript": [
              "\n",
              "    async function download(id, filename, size) {\n",
              "      if (!google.colab.kernel.accessAllowed) {\n",
              "        return;\n",
              "      }\n",
              "      const div = document.createElement('div');\n",
              "      const label = document.createElement('label');\n",
              "      label.textContent = `Downloading \"${filename}\": `;\n",
              "      div.appendChild(label);\n",
              "      const progress = document.createElement('progress');\n",
              "      progress.max = size;\n",
              "      div.appendChild(progress);\n",
              "      document.body.appendChild(div);\n",
              "\n",
              "      const buffers = [];\n",
              "      let downloaded = 0;\n",
              "\n",
              "      const channel = await google.colab.kernel.comms.open(id);\n",
              "      // Send a message to notify the kernel that we're ready.\n",
              "      channel.send({})\n",
              "\n",
              "      for await (const message of channel.messages) {\n",
              "        // Send a message to notify the kernel that we're ready.\n",
              "        channel.send({})\n",
              "        if (message.buffers) {\n",
              "          for (const buffer of message.buffers) {\n",
              "            buffers.push(buffer);\n",
              "            downloaded += buffer.byteLength;\n",
              "            progress.value = downloaded;\n",
              "          }\n",
              "        }\n",
              "      }\n",
              "      const blob = new Blob(buffers, {type: 'application/binary'});\n",
              "      const a = document.createElement('a');\n",
              "      a.href = window.URL.createObjectURL(blob);\n",
              "      a.download = filename;\n",
              "      div.appendChild(a);\n",
              "      a.click();\n",
              "      div.remove();\n",
              "    }\n",
              "  "
            ]
          },
          "metadata": {}
        },
        {
          "output_type": "display_data",
          "data": {
            "text/plain": [
              "<IPython.core.display.Javascript object>"
            ],
            "application/javascript": [
              "download(\"download_233ed135-0f5b-4beb-8ee9-60479b3b1ba5\", \"clean_education_inequality.csv\", 753598)"
            ]
          },
          "metadata": {}
        }
      ]
    }
  ]
}